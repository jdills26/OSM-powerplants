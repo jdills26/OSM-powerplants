{
 "cells": [
  {
   "cell_type": "markdown",
   "metadata": {},
   "source": [
    "# Getting Powerplant info from Openstreet Map "
   ]
  },
  {
   "cell_type": "markdown",
   "metadata": {},
   "source": [
    "Useful links: http://wiki.openstreetmap.org/wiki/Overpass_API, https://github.com/mvexel/overpass-api-python-wrapper\n",
    "Overpass turbo: http://overpass-turbo.eu/"
   ]
  },
  {
   "cell_type": "code",
   "execution_count": 1,
   "metadata": {
    "collapsed": false,
    "scrolled": true
   },
   "outputs": [
    {
     "name": "stdout",
     "output_type": "stream",
     "text": [
      "Wall time: 11.4 s\n"
     ]
    }
   ],
   "source": [
    "%%time\n",
    "import overpass\n",
    "\n",
    "#set timeout higher \n",
    "api = overpass.API(timeout=900)\n",
    "nodes = api.Get('node[\"power\" = \"plant\"]')\n",
    "#print(nodes)"
   ]
  },
  {
   "cell_type": "code",
   "execution_count": 3,
   "metadata": {
    "collapsed": false
   },
   "outputs": [
    {
     "name": "stdout",
     "output_type": "stream",
     "text": [
      "Wall time: 2min 19s\n"
     ]
    }
   ],
   "source": [
    "%%time\n",
    "api = overpass.API(timeout=900)\n",
    "ways = api.Get('way[\"power\" = \"plant\"]')\n",
    "#print(ways)"
   ]
  },
  {
   "cell_type": "markdown",
   "metadata": {},
   "source": [
    "You can see it takes less than three minutes to run. There are many more ways than nodes. A closed way is a polygon and represents the perimeter of something (powerplant in this case)."
   ]
  },
  {
   "cell_type": "markdown",
   "metadata": {},
   "source": [
    "goal -> find an elegant way to switch the order of the coordinates bc they are appearing in reverse\n",
    "I would like to reverse the order of the coordinates in this JSON response from (lon,lat) to (lat,lon) so that the \n",
    "reverse geocoder will work"
   ]
  },
  {
   "cell_type": "code",
   "execution_count": 4,
   "metadata": {
    "collapsed": true
   },
   "outputs": [],
   "source": [
    "import json\n",
    "import requests\n",
    "import numpy as np\n",
    "\n",
    "#dict.iteritems() changed to dict.items() in python 3\n",
    "\n",
    "def flip_geojson_coordinates(geo):\n",
    "    if isinstance(geo, dict):\n",
    "        for k, v in geo.items():\n",
    "            if k == \"coordinates\":\n",
    "                z = np.asarray(geo[k])\n",
    "                f = z.flatten()\n",
    "                geo[k] = np.dstack((f[1::2], f[::2])).reshape(z.shape).tolist()\n",
    "            else:\n",
    "                flip_geojson_coordinates(v)\n",
    "    elif isinstance(geo, list):\n",
    "        for k in geo:\n",
    "            flip_geojson_coordinates(k)"
   ]
  },
  {
   "cell_type": "code",
   "execution_count": 5,
   "metadata": {
    "collapsed": false
   },
   "outputs": [],
   "source": [
    "flip_geojson_coordinates(nodes)\n",
    "flip_geojson_coordinates(ways)"
   ]
  },
  {
   "cell_type": "markdown",
   "metadata": {},
   "source": [
    "“Normalize” semi-structured JSON data into a flat table - much easier to work with! http://pandas.pydata.org/pandas-docs/version/0.17.0/generated/pandas.io.json.json_normalize.html"
   ]
  },
  {
   "cell_type": "code",
   "execution_count": 6,
   "metadata": {
    "collapsed": false
   },
   "outputs": [],
   "source": [
    "import pandas as pd\n",
    "nodes = pd.io.json.json_normalize(nodes['features'])\n",
    "ways = pd.io.json.json_normalize(ways['features'])"
   ]
  },
  {
   "cell_type": "markdown",
   "metadata": {},
   "source": [
    "Take a look at how many rows"
   ]
  },
  {
   "cell_type": "code",
   "execution_count": 23,
   "metadata": {
    "collapsed": false
   },
   "outputs": [
    {
     "data": {
      "text/plain": [
       "192"
      ]
     },
     "execution_count": 23,
     "metadata": {},
     "output_type": "execute_result"
    }
   ],
   "source": [
    "len(nodes['id'])"
   ]
  },
  {
   "cell_type": "code",
   "execution_count": 10,
   "metadata": {
    "collapsed": false,
    "scrolled": true
   },
   "outputs": [
    {
     "data": {
      "text/plain": [
       "4719"
      ]
     },
     "execution_count": 10,
     "metadata": {},
     "output_type": "execute_result"
    }
   ],
   "source": [
    "len(ways['id'])"
   ]
  },
  {
   "cell_type": "markdown",
   "metadata": {},
   "source": [
    "Take a look at the gps coordinates"
   ]
  },
  {
   "cell_type": "code",
   "execution_count": 13,
   "metadata": {
    "collapsed": false,
    "scrolled": true
   },
   "outputs": [
    {
     "data": {
      "text/plain": [
       "0    [51.0745439, -115.4022874]\n",
       "1    [43.2439679, -116.3783661]\n",
       "2      [48.1056465, -1.9880204]\n",
       "3      [49.6197688, 10.8350521]\n",
       "4    [43.2669091, -122.4098458]\n",
       "Name: geometry.coordinates, dtype: object"
      ]
     },
     "execution_count": 13,
     "metadata": {},
     "output_type": "execute_result"
    }
   ],
   "source": [
    "nodes['geometry.coordinates'][0:5]"
   ]
  },
  {
   "cell_type": "code",
   "execution_count": 14,
   "metadata": {
    "collapsed": false
   },
   "outputs": [
    {
     "data": {
      "text/plain": [
       "0    [[51.6368677, 7.624084], [51.6368396, 7.624103...\n",
       "1    [[52.5380095, 13.3492891], [52.5380757, 13.349...\n",
       "Name: geometry.coordinates, dtype: object"
      ]
     },
     "execution_count": 14,
     "metadata": {},
     "output_type": "execute_result"
    }
   ],
   "source": [
    "ways['geometry.coordinates'][0:2]"
   ]
  },
  {
   "cell_type": "markdown",
   "metadata": {},
   "source": [
    "Fyi coordinates for ways is a linestring and will need only one pair for reverse geolocator. Later on I just extracted the first pair to map them on Carto DB along with the nodes points."
   ]
  },
  {
   "cell_type": "markdown",
   "metadata": {},
   "source": [
    "Look at powerplant names:"
   ]
  },
  {
   "cell_type": "code",
   "execution_count": 15,
   "metadata": {
    "collapsed": false,
    "scrolled": true
   },
   "outputs": [
    {
     "data": {
      "text/plain": [
       "0                                NaN\n",
       "1                                NaN\n",
       "2    Eolienne de la Ville es Archers\n",
       "3    Biomasse Heizwerk Gerbersleithe\n",
       "4     Clearwater Powerplant Number 2\n",
       "Name: properties.name, dtype: object"
      ]
     },
     "execution_count": 15,
     "metadata": {},
     "output_type": "execute_result"
    }
   ],
   "source": [
    "nodes['properties.name'].head()"
   ]
  },
  {
   "cell_type": "code",
   "execution_count": 16,
   "metadata": {
    "collapsed": false
   },
   "outputs": [
    {
     "data": {
      "text/plain": [
       "array([nan, 'DE'], dtype=object)"
      ]
     },
     "execution_count": 16,
     "metadata": {},
     "output_type": "execute_result"
    }
   ],
   "source": [
    "nodes['properties.addr:country'].unique()\n",
    "#will take more work to look at plants by country"
   ]
  },
  {
   "cell_type": "code",
   "execution_count": 18,
   "metadata": {
    "collapsed": false
   },
   "outputs": [
    {
     "data": {
      "text/plain": [
       "geometry.coordinates                         0\n",
       "geometry.type                                0\n",
       "id                                           0\n",
       "properties.abandoned                       191\n",
       "properties.addr:city                       181\n",
       "properties.addr:country                    191\n",
       "properties.addr:postcode                   191\n",
       "properties.addr:state                      185\n",
       "properties.addr:street                     191\n",
       "properties.branch                          191\n",
       "properties.building                        189\n",
       "properties.construction                    190\n",
       "properties.description                     189\n",
       "properties.designation                     189\n",
       "properties.ele                             182\n",
       "properties.fixme                           190\n",
       "properties.frequency                       191\n",
       "properties.fvst:navnelbnr                  191\n",
       "properties.generator:method                157\n",
       "properties.generator:output:electricity    187\n",
       "properties.generator:output:heat           190\n",
       "properties.generator:source                 73\n",
       "properties.generator:type                  185\n",
       "properties.gnis:county_name                185\n",
       "properties.gnis:feature_id                 183\n",
       "properties.gnis:import_uuid                187\n",
       "properties.gnis:reviewed                   188\n",
       "properties.heritage                        191\n",
       "properties.heritage:operator               191\n",
       "properties.historic                        191\n",
       "                                          ... \n",
       "properties.name:fr                         191\n",
       "properties.name:pl                         191\n",
       "properties.name:vi                         191\n",
       "properties.name:zh                         190\n",
       "properties.name:zh_pinyin                  191\n",
       "properties.note                            191\n",
       "properties.operator                        162\n",
       "properties.operator:type                   191\n",
       "properties.owner                           191\n",
       "properties.plant:method                    182\n",
       "properties.plant:output                    190\n",
       "properties.plant:output:electricity         90\n",
       "properties.plant:output:hot_water          191\n",
       "properties.plant:source                    180\n",
       "properties.plant:type                      191\n",
       "properties.power                             0\n",
       "properties.power_rating                    190\n",
       "properties.ref:EEG                         191\n",
       "properties.ref:mhs                         191\n",
       "properties.short_name                      191\n",
       "properties.source                          137\n",
       "properties.source:2                        191\n",
       "properties.start_date                      190\n",
       "properties.tourism                         191\n",
       "properties.units                           191\n",
       "properties.waterway                        191\n",
       "properties.website                         191\n",
       "properties.wikidata                        186\n",
       "properties.wikipedia                       171\n",
       "type                                         0\n",
       "dtype: int64"
      ]
     },
     "execution_count": 18,
     "metadata": {},
     "output_type": "execute_result"
    }
   ],
   "source": [
    "#look into missingness in the data table - could be useful later on\n",
    "nodes.isnull().sum()"
   ]
  },
  {
   "cell_type": "code",
   "execution_count": 19,
   "metadata": {
    "collapsed": false,
    "scrolled": true
   },
   "outputs": [
    {
     "data": {
      "text/plain": [
       "9"
      ]
     },
     "execution_count": 19,
     "metadata": {},
     "output_type": "execute_result"
    }
   ],
   "source": [
    "#for example, there are only 9 columns with less than 150 missing rows\n",
    "df1 = nodes\n",
    "df1 = (nodes.isnull().sum()) < 150\n",
    "df1 = df1[df1 == True]\n",
    "len(df1)"
   ]
  },
  {
   "cell_type": "markdown",
   "metadata": {},
   "source": [
    "Look at fuel types"
   ]
  },
  {
   "cell_type": "code",
   "execution_count": 25,
   "metadata": {
    "collapsed": false
   },
   "outputs": [
    {
     "data": {
      "text/plain": [
       "array(['hydro', nan, 'wind', 'biomass', 'geothermal', 'nuclear', 'coal',\n",
       "       'fossil', 'oil', 'solar', 'biogas'], dtype=object)"
      ]
     },
     "execution_count": 25,
     "metadata": {},
     "output_type": "execute_result"
    }
   ],
   "source": [
    "nodes['properties.generator:source'].unique()"
   ]
  },
  {
   "cell_type": "code",
   "execution_count": 28,
   "metadata": {
    "collapsed": false
   },
   "outputs": [
    {
     "data": {
      "text/plain": [
       "array([nan, 'nuclear', 'hydro', 'biofuel', 'solar', 'biogas'], dtype=object)"
      ]
     },
     "execution_count": 28,
     "metadata": {},
     "output_type": "execute_result"
    }
   ],
   "source": [
    "nodes['properties.plant:source'].unique()"
   ]
  },
  {
   "cell_type": "code",
   "execution_count": 27,
   "metadata": {
    "collapsed": false,
    "scrolled": true
   },
   "outputs": [
    {
     "data": {
      "text/plain": [
       "array(['coal', nan, 'gas', 'hydro', 'fossil', 'oil', 'nuclear',\n",
       "       'coal;oil;waste', 'waste', 'coal;gas', 'biofuel', 'diesel', 'solar',\n",
       "       'biogas', 'gas;oil', 'diesel;gas', 'lignite', 'geothermal',\n",
       "       'gas;diesel', 'biomass', 'coal;diesel', 'gas; coal; oil',\n",
       "       'gas;coal', 'coal;oil', 'coal;gas;waste', 'wind', 'photovoltaic',\n",
       "       'oil;gas', 'gas;oil;coal', 'coal;gas;oil', 'co-gen',\n",
       "       'Gas; oil, diesel', 'oil/gas', 'Gas_or_Diesel', 'photovoltaik',\n",
       "       'waste;gas'], dtype=object)"
      ]
     },
     "execution_count": 27,
     "metadata": {},
     "output_type": "execute_result"
    }
   ],
   "source": [
    "ways['properties.generator:source'].unique()"
   ]
  },
  {
   "cell_type": "code",
   "execution_count": 29,
   "metadata": {
    "collapsed": false
   },
   "outputs": [
    {
     "data": {
      "text/plain": [
       "array([nan, 'nuclear', 'gas', 'solar', 'coal', 'hydro', 'coal;gas',\n",
       "       'coal;gas;biomass', 'biomass', 'gas;steam', 'gas;oil', 'oil',\n",
       "       'wind', 'coal;biomass', 'coal;biomass;waste', 'geothermal',\n",
       "       'oil;gas', 'coal;oil', 'gas;coal', 'gas;coal;oil', 'waste',\n",
       "       'waste;gas', 'biogas', 'wind;solar', 'Gas', 'diesel', 'osmosis',\n",
       "       'peat;biomass', 'water', 'distillate oil', 'wood', ' solar',\n",
       "       'biofuel', 'gas;solar'], dtype=object)"
      ]
     },
     "execution_count": 29,
     "metadata": {},
     "output_type": "execute_result"
    }
   ],
   "source": [
    "ways['properties.plant:source'].unique()"
   ]
  },
  {
   "cell_type": "markdown",
   "metadata": {},
   "source": [
    "Export the tables to csv"
   ]
  },
  {
   "cell_type": "code",
   "execution_count": null,
   "metadata": {
    "collapsed": true
   },
   "outputs": [],
   "source": [
    "nodes.to_csv('osm_nodes_flip.csv')\n",
    "ways.to_csv('osm_ways_flip.csv')"
   ]
  },
  {
   "cell_type": "markdown",
   "metadata": {},
   "source": [
    "View the map!  Yellow dots are ways and red are nodes. \n",
    "\n",
    "https://jdills26.cartodb.com/viz/1bc14754-3c7c-11e6-88e8-0e98b61680bf/public_map"
   ]
  },
  {
   "cell_type": "code",
   "execution_count": 22,
   "metadata": {
    "collapsed": false
   },
   "outputs": [
    {
     "data": {
      "text/html": [
       "<iframe width=100% height=520 frameborder=0 src=https://jdills26.cartodb.com/viz/1bc14754-3c7c-11e6-88e8-0e98b61680bf/embed_map allowfullscreen webkitallowfullscreen mozallowfullscreen oallowfullscreen msallowfullscreen></iframe>"
      ],
      "text/plain": [
       "<IPython.core.display.HTML object>"
      ]
     },
     "execution_count": 22,
     "metadata": {},
     "output_type": "execute_result"
    }
   ],
   "source": [
    "from IPython.display import HTML\n",
    "HTML('<iframe width=100% height=520 frameborder=0 src=https://jdills26.cartodb.com/viz/1bc14754-3c7c-11e6-88e8-0e98b61680bf/embed_map allowfullscreen webkitallowfullscreen mozallowfullscreen oallowfullscreen msallowfullscreen></iframe>')"
   ]
  },
  {
   "cell_type": "markdown",
   "metadata": {
    "collapsed": true
   },
   "source": [
    "# FIN"
   ]
  }
 ],
 "metadata": {
  "kernelspec": {
   "display_name": "Python 3",
   "language": "python",
   "name": "python3"
  },
  "language_info": {
   "codemirror_mode": {
    "name": "ipython",
    "version": 3
   },
   "file_extension": ".py",
   "mimetype": "text/x-python",
   "name": "python",
   "nbconvert_exporter": "python",
   "pygments_lexer": "ipython3",
   "version": "3.5.1"
  }
 },
 "nbformat": 4,
 "nbformat_minor": 0
}
