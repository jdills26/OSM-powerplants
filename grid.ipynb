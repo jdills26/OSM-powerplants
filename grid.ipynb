{
 "cells": [
  {
   "cell_type": "code",
   "execution_count": null,
   "metadata": {
    "collapsed": true
   },
   "outputs": [],
   "source": [
    "%matplotlib inline\n",
    "import geopandas as gpd\n",
    "import pandas as pd"
   ]
  },
  {
   "cell_type": "code",
   "execution_count": null,
   "metadata": {
    "collapsed": false
   },
   "outputs": [],
   "source": [
    "shp = gpd.GeoDataFrame.from_file('lossdata_footprint/lossdata_footprint.shp')"
   ]
  },
  {
   "cell_type": "code",
   "execution_count": null,
   "metadata": {
    "collapsed": false
   },
   "outputs": [],
   "source": [
    "#list(shp)"
   ]
  },
  {
   "cell_type": "code",
   "execution_count": null,
   "metadata": {
    "collapsed": false,
    "scrolled": true
   },
   "outputs": [],
   "source": [
    "shp['geometry'].head()"
   ]
  },
  {
   "cell_type": "code",
   "execution_count": null,
   "metadata": {
    "collapsed": false
   },
   "outputs": [],
   "source": [
    "print(shp['geometry'][0])"
   ]
  },
  {
   "cell_type": "code",
   "execution_count": null,
   "metadata": {
    "collapsed": true
   },
   "outputs": [],
   "source": [
    "# BBox order\n",
    "# minimum latitude, minimum longitude, maximum latitude, maximum longitude\n",
    "# (or South-West-North-East)."
   ]
  },
  {
   "cell_type": "code",
   "execution_count": null,
   "metadata": {
    "collapsed": true
   },
   "outputs": [],
   "source": [
    "bbox_dict = {}\n",
    "\n",
    "# iterate over each feature to extract its name and the geometry\n",
    "for name_tile, polygon in zip(shp['name_tile'], shp['geometry']):\n",
    "\n",
    "    coords = polygon.exterior.coords[0:4]\n",
    "    output_list = []\n",
    "\n",
    "    for pnt in coords:\n",
    "         x_coord = round(pnt[0])\n",
    "         y_coord = round(pnt[1])\n",
    "\n",
    "         output_list.append((x_coord, y_coord))\n",
    "\n",
    "    min_lat = output_list[0][1]\n",
    "    min_lon = output_list[0][0]\n",
    "    max_lat = output_list[2][1]\n",
    "    max_lon = output_list[2][0]\n",
    "\n",
    "    bbox_dict[name_tile] = [min_lat, min_lon, max_lat, max_lon]"
   ]
  },
  {
   "cell_type": "code",
   "execution_count": null,
   "metadata": {
    "collapsed": false
   },
   "outputs": [],
   "source": [
    "for name_key, bbox in bbox_dict.items():\n",
    "\n",
    "    # we want to query the API with this\n",
    "    print (name_key, bbox)"
   ]
  },
  {
   "cell_type": "code",
   "execution_count": null,
   "metadata": {
    "collapsed": false
   },
   "outputs": [],
   "source": [
    "bbox_dict['30N_060W'][0:4]"
   ]
  },
  {
   "cell_type": "code",
   "execution_count": null,
   "metadata": {
    "collapsed": false
   },
   "outputs": [],
   "source": [
    "def dict_to_df(d):\n",
    "    df=pd.DataFrame(d.items())\n",
    "    df.set_index(0, inplace=True)\n",
    "    return df"
   ]
  },
  {
   "cell_type": "code",
   "execution_count": null,
   "metadata": {
    "collapsed": false
   },
   "outputs": [],
   "source": [
    "bboxes = pd.DataFrame(list(bbox_dict.items()))"
   ]
  },
  {
   "cell_type": "code",
   "execution_count": null,
   "metadata": {
    "collapsed": false
   },
   "outputs": [],
   "source": [
    "list(bboxes)"
   ]
  },
  {
   "cell_type": "code",
   "execution_count": null,
   "metadata": {
    "collapsed": true
   },
   "outputs": [],
   "source": [
    "bboxes.columns = ['tile_key', 'coord']"
   ]
  },
  {
   "cell_type": "code",
   "execution_count": null,
   "metadata": {
    "collapsed": false,
    "scrolled": false
   },
   "outputs": [],
   "source": [
    "bboxes.head()"
   ]
  },
  {
   "cell_type": "code",
   "execution_count": null,
   "metadata": {
    "collapsed": true
   },
   "outputs": [],
   "source": [
    "bboxes.to_csv('bbox.csv')"
   ]
  },
  {
   "cell_type": "markdown",
   "metadata": {
    "collapsed": true
   },
   "source": [
    "http://api.openstreetmap.org/api/0.6"
   ]
  },
  {
   "cell_type": "code",
   "execution_count": null,
   "metadata": {
    "collapsed": false
   },
   "outputs": [],
   "source": [
    "df = pd.read_csv('bbox.csv')\n",
    "df.columns = ['index2', 'tile_key', 'coord']"
   ]
  },
  {
   "cell_type": "code",
   "execution_count": 67,
   "metadata": {
    "collapsed": false
   },
   "outputs": [
    {
     "data": {
      "text/html": [
       "<div>\n",
       "<table border=\"1\" class=\"dataframe\">\n",
       "  <thead>\n",
       "    <tr style=\"text-align: right;\">\n",
       "      <th></th>\n",
       "      <th>index2</th>\n",
       "      <th>tile_key</th>\n",
       "      <th>coord</th>\n",
       "    </tr>\n",
       "  </thead>\n",
       "  <tbody>\n",
       "    <tr>\n",
       "      <th>0</th>\n",
       "      <td>0</td>\n",
       "      <td>20S_170E</td>\n",
       "      <td>(-30, 170, -20, 180)</td>\n",
       "    </tr>\n",
       "    <tr>\n",
       "      <th>1</th>\n",
       "      <td>1</td>\n",
       "      <td>30S_110E</td>\n",
       "      <td>(-40, 110, -30, 120)</td>\n",
       "    </tr>\n",
       "  </tbody>\n",
       "</table>\n",
       "</div>"
      ],
      "text/plain": [
       "   index2  tile_key                 coord\n",
       "0       0  20S_170E  (-30, 170, -20, 180)\n",
       "1       1  30S_110E  (-40, 110, -30, 120)"
      ]
     },
     "execution_count": 67,
     "metadata": {},
     "output_type": "execute_result"
    }
   ],
   "source": [
    "df.head(2)"
   ]
  },
  {
   "cell_type": "code",
   "execution_count": 69,
   "metadata": {
    "collapsed": false
   },
   "outputs": [
    {
     "data": {
      "text/plain": [
       "504"
      ]
     },
     "execution_count": 69,
     "metadata": {},
     "output_type": "execute_result"
    }
   ],
   "source": [
    "len(df['coord'])"
   ]
  },
  {
   "cell_type": "code",
   "execution_count": null,
   "metadata": {
    "collapsed": false
   },
   "outputs": [],
   "source": [
    "import overpass\n",
    "import csv\n",
    "import sys\n",
    "api = overpass.API(timeout=900)\n",
    "\n",
    "coords = []\n",
    "\n",
    "with open('bbox.csv') as theFile:\n",
    "    csvReader = csv.reader(theFile)\n",
    "    csvReader.__next__()\n",
    "    for row in csvReader:\n",
    "\t    coords.append(row[2])\n",
    "\n",
    "for coord in coords:\n",
    "    api_calls = []\n",
    "    params = 'node[\"power\"=\"generator\"]'+coord+';out skel;'\n",
    "\t\n",
    "    try:\n",
    "        response = api.Get(params)\n",
    "        #print response\n",
    "        api_calls.append(response)\n",
    "        print ('This succeeded: {0}'.format(coord))\n",
    "    except:\n",
    "        print ('--------------------------------')\n",
    "        print ('This failed: {0}'.format(params))\n",
    "        continue"
   ]
  },
  {
   "cell_type": "code",
   "execution_count": 84,
   "metadata": {
    "collapsed": true
   },
   "outputs": [],
   "source": [
    "import json\n",
    "import requests\n",
    "import numpy as np\n",
    "import pandas as pd"
   ]
  },
  {
   "cell_type": "code",
   "execution_count": 85,
   "metadata": {
    "collapsed": true
   },
   "outputs": [],
   "source": [
    "table = pd.io.json.json_normalize(response['features'])"
   ]
  },
  {
   "cell_type": "code",
   "execution_count": 86,
   "metadata": {
    "collapsed": false
   },
   "outputs": [
    {
     "data": {
      "text/plain": [
       "['geometry.coordinates',\n",
       " 'geometry.type',\n",
       " 'id',\n",
       " 'properties.generator:method',\n",
       " 'properties.generator:output:electricity',\n",
       " 'properties.generator:source',\n",
       " 'properties.name',\n",
       " 'properties.power',\n",
       " 'type']"
      ]
     },
     "execution_count": 86,
     "metadata": {},
     "output_type": "execute_result"
    }
   ],
   "source": [
    "list(table)"
   ]
  },
  {
   "cell_type": "code",
   "execution_count": 87,
   "metadata": {
    "collapsed": false
   },
   "outputs": [
    {
     "data": {
      "text/plain": [
       "geometry.coordinates                         0\n",
       "geometry.type                                0\n",
       "id                                           0\n",
       "properties.generator:method                119\n",
       "properties.generator:output:electricity    119\n",
       "properties.generator:source                 61\n",
       "properties.name                            104\n",
       "properties.power                            60\n",
       "type                                         0\n",
       "dtype: int64"
      ]
     },
     "execution_count": 87,
     "metadata": {},
     "output_type": "execute_result"
    }
   ],
   "source": [
    "table.isnull().sum()"
   ]
  },
  {
   "cell_type": "code",
   "execution_count": 90,
   "metadata": {
    "collapsed": false,
    "scrolled": false
   },
   "outputs": [
    {
     "data": {
      "text/html": [
       "<div>\n",
       "<table border=\"1\" class=\"dataframe\">\n",
       "  <thead>\n",
       "    <tr style=\"text-align: right;\">\n",
       "      <th></th>\n",
       "      <th>geometry.coordinates</th>\n",
       "      <th>geometry.type</th>\n",
       "      <th>id</th>\n",
       "      <th>properties.generator:method</th>\n",
       "      <th>properties.generator:output:electricity</th>\n",
       "      <th>properties.generator:source</th>\n",
       "      <th>properties.name</th>\n",
       "      <th>properties.power</th>\n",
       "      <th>type</th>\n",
       "    </tr>\n",
       "  </thead>\n",
       "  <tbody>\n",
       "    <tr>\n",
       "      <th>0</th>\n",
       "      <td>(-156.5459296, 20.8056515)</td>\n",
       "      <td>Point</td>\n",
       "      <td>1843489091</td>\n",
       "      <td>NaN</td>\n",
       "      <td>NaN</td>\n",
       "      <td>NaN</td>\n",
       "      <td>NaN</td>\n",
       "      <td>NaN</td>\n",
       "      <td>Feature</td>\n",
       "    </tr>\n",
       "    <tr>\n",
       "      <th>1</th>\n",
       "      <td>(-156.5551839, 20.8224748)</td>\n",
       "      <td>Point</td>\n",
       "      <td>1843489092</td>\n",
       "      <td>NaN</td>\n",
       "      <td>NaN</td>\n",
       "      <td>NaN</td>\n",
       "      <td>NaN</td>\n",
       "      <td>NaN</td>\n",
       "      <td>Feature</td>\n",
       "    </tr>\n",
       "    <tr>\n",
       "      <th>2</th>\n",
       "      <td>(-156.5481612, 20.8099418)</td>\n",
       "      <td>Point</td>\n",
       "      <td>1843489093</td>\n",
       "      <td>NaN</td>\n",
       "      <td>NaN</td>\n",
       "      <td>NaN</td>\n",
       "      <td>NaN</td>\n",
       "      <td>NaN</td>\n",
       "      <td>Feature</td>\n",
       "    </tr>\n",
       "    <tr>\n",
       "      <th>3</th>\n",
       "      <td>(-156.5532359, 20.8194611)</td>\n",
       "      <td>Point</td>\n",
       "      <td>1843489094</td>\n",
       "      <td>NaN</td>\n",
       "      <td>NaN</td>\n",
       "      <td>NaN</td>\n",
       "      <td>NaN</td>\n",
       "      <td>NaN</td>\n",
       "      <td>Feature</td>\n",
       "    </tr>\n",
       "    <tr>\n",
       "      <th>4</th>\n",
       "      <td>(-156.5538428, 20.8205249)</td>\n",
       "      <td>Point</td>\n",
       "      <td>1843489095</td>\n",
       "      <td>NaN</td>\n",
       "      <td>NaN</td>\n",
       "      <td>NaN</td>\n",
       "      <td>NaN</td>\n",
       "      <td>NaN</td>\n",
       "      <td>Feature</td>\n",
       "    </tr>\n",
       "  </tbody>\n",
       "</table>\n",
       "</div>"
      ],
      "text/plain": [
       "         geometry.coordinates geometry.type          id  \\\n",
       "0  (-156.5459296, 20.8056515)         Point  1843489091   \n",
       "1  (-156.5551839, 20.8224748)         Point  1843489092   \n",
       "2  (-156.5481612, 20.8099418)         Point  1843489093   \n",
       "3  (-156.5532359, 20.8194611)         Point  1843489094   \n",
       "4  (-156.5538428, 20.8205249)         Point  1843489095   \n",
       "\n",
       "  properties.generator:method properties.generator:output:electricity  \\\n",
       "0                         NaN                                     NaN   \n",
       "1                         NaN                                     NaN   \n",
       "2                         NaN                                     NaN   \n",
       "3                         NaN                                     NaN   \n",
       "4                         NaN                                     NaN   \n",
       "\n",
       "  properties.generator:source properties.name properties.power     type  \n",
       "0                         NaN             NaN              NaN  Feature  \n",
       "1                         NaN             NaN              NaN  Feature  \n",
       "2                         NaN             NaN              NaN  Feature  \n",
       "3                         NaN             NaN              NaN  Feature  \n",
       "4                         NaN             NaN              NaN  Feature  "
      ]
     },
     "execution_count": 90,
     "metadata": {},
     "output_type": "execute_result"
    }
   ],
   "source": [
    "table.head()"
   ]
  },
  {
   "cell_type": "code",
   "execution_count": 93,
   "metadata": {
    "collapsed": false
   },
   "outputs": [
    {
     "data": {
      "text/plain": [
       "array([nan, 'wind', 'coal'], dtype=object)"
      ]
     },
     "execution_count": 93,
     "metadata": {},
     "output_type": "execute_result"
    }
   ],
   "source": [
    "table['properties.generator:source'].unique()"
   ]
  },
  {
   "cell_type": "code",
   "execution_count": 94,
   "metadata": {
    "collapsed": true
   },
   "outputs": [],
   "source": [
    "table.to_csv('nodes_by_bbox_grid.csv')"
   ]
  }
 ],
 "metadata": {
  "kernelspec": {
   "display_name": "Python 3",
   "language": "python",
   "name": "python3"
  },
  "language_info": {
   "codemirror_mode": {
    "name": "ipython",
    "version": 3
   },
   "file_extension": ".py",
   "mimetype": "text/x-python",
   "name": "python",
   "nbconvert_exporter": "python",
   "pygments_lexer": "ipython3",
   "version": "3.5.1"
  }
 },
 "nbformat": 4,
 "nbformat_minor": 0
}
