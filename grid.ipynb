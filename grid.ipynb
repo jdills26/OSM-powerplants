{
 "cells": [
  {
   "cell_type": "code",
   "execution_count": null,
   "metadata": {
    "collapsed": true
   },
   "outputs": [],
   "source": [
    "%matplotlib inline\n",
    "import geopandas as gpd\n",
    "import pandas as pd"
   ]
  },
  {
   "cell_type": "code",
   "execution_count": null,
   "metadata": {
    "collapsed": false
   },
   "outputs": [],
   "source": [
    "shp = gpd.GeoDataFrame.from_file('lossdata_footprint/lossdata_footprint.shp')"
   ]
  },
  {
   "cell_type": "code",
   "execution_count": null,
   "metadata": {
    "collapsed": false
   },
   "outputs": [],
   "source": [
    "#list(shp)"
   ]
  },
  {
   "cell_type": "code",
   "execution_count": null,
   "metadata": {
    "collapsed": false,
    "scrolled": true
   },
   "outputs": [],
   "source": [
    "shp['geometry'].head()"
   ]
  },
  {
   "cell_type": "code",
   "execution_count": null,
   "metadata": {
    "collapsed": false
   },
   "outputs": [],
   "source": [
    "print(shp['geometry'][0])"
   ]
  },
  {
   "cell_type": "code",
   "execution_count": null,
   "metadata": {
    "collapsed": true
   },
   "outputs": [],
   "source": [
    "# BBox order\n",
    "# minimum latitude, minimum longitude, maximum latitude, maximum longitude\n",
    "# (or South-West-North-East)."
   ]
  },
  {
   "cell_type": "code",
   "execution_count": null,
   "metadata": {
    "collapsed": true
   },
   "outputs": [],
   "source": [
    "bbox_dict = {}\n",
    "\n",
    "# iterate over each feature to extract its name and the geometry\n",
    "for name_tile, polygon in zip(shp['name_tile'], shp['geometry']):\n",
    "\n",
    "    coords = polygon.exterior.coords[0:4]\n",
    "    output_list = []\n",
    "\n",
    "    for pnt in coords:\n",
    "         x_coord = round(pnt[0])\n",
    "         y_coord = round(pnt[1])\n",
    "\n",
    "         output_list.append((x_coord, y_coord))\n",
    "\n",
    "    min_lat = output_list[0][1]\n",
    "    min_lon = output_list[0][0]\n",
    "    max_lat = output_list[2][1]\n",
    "    max_lon = output_list[2][0]\n",
    "\n",
    "    bbox_dict[name_tile] = [min_lat, min_lon, max_lat, max_lon]"
   ]
  },
  {
   "cell_type": "code",
   "execution_count": null,
   "metadata": {
    "collapsed": false
   },
   "outputs": [],
   "source": [
    "for name_key, bbox in bbox_dict.items():\n",
    "\n",
    "    # we want to query the API with this\n",
    "    print (name_key, bbox)"
   ]
  },
  {
   "cell_type": "code",
   "execution_count": null,
   "metadata": {
    "collapsed": false
   },
   "outputs": [],
   "source": [
    "bbox_dict['30N_060W'][0:4]"
   ]
  },
  {
   "cell_type": "code",
   "execution_count": null,
   "metadata": {
    "collapsed": false
   },
   "outputs": [],
   "source": [
    "def dict_to_df(d):\n",
    "    df=pd.DataFrame(d.items())\n",
    "    df.set_index(0, inplace=True)\n",
    "    return df"
   ]
  },
  {
   "cell_type": "code",
   "execution_count": null,
   "metadata": {
    "collapsed": false
   },
   "outputs": [],
   "source": [
    "bboxes = pd.DataFrame(list(bbox_dict.items()))"
   ]
  },
  {
   "cell_type": "code",
   "execution_count": null,
   "metadata": {
    "collapsed": false
   },
   "outputs": [],
   "source": [
    "list(bboxes)"
   ]
  },
  {
   "cell_type": "code",
   "execution_count": null,
   "metadata": {
    "collapsed": true
   },
   "outputs": [],
   "source": [
    "bboxes.columns = ['tile_key', 'coord']"
   ]
  },
  {
   "cell_type": "code",
   "execution_count": null,
   "metadata": {
    "collapsed": false,
    "scrolled": false
   },
   "outputs": [],
   "source": [
    "bboxes.head()"
   ]
  },
  {
   "cell_type": "code",
   "execution_count": null,
   "metadata": {
    "collapsed": true
   },
   "outputs": [],
   "source": [
    "bboxes.to_csv('bbox.csv')"
   ]
  },
  {
   "cell_type": "markdown",
   "metadata": {
    "collapsed": true
   },
   "source": [
    "http://api.openstreetmap.org/api/0.6"
   ]
  },
  {
   "cell_type": "code",
   "execution_count": null,
   "metadata": {
    "collapsed": false
   },
   "outputs": [],
   "source": [
    "df = pd.read_csv('bbox.csv')\n",
    "df.columns = ['index2', 'tile_key', 'coord']"
   ]
  },
  {
   "cell_type": "code",
   "execution_count": 67,
   "metadata": {
    "collapsed": false
   },
   "outputs": [
    {
     "data": {
      "text/html": [
       "<div>\n",
       "<table border=\"1\" class=\"dataframe\">\n",
       "  <thead>\n",
       "    <tr style=\"text-align: right;\">\n",
       "      <th></th>\n",
       "      <th>index2</th>\n",
       "      <th>tile_key</th>\n",
       "      <th>coord</th>\n",
       "    </tr>\n",
       "  </thead>\n",
       "  <tbody>\n",
       "    <tr>\n",
       "      <th>0</th>\n",
       "      <td>0</td>\n",
       "      <td>20S_170E</td>\n",
       "      <td>(-30, 170, -20, 180)</td>\n",
       "    </tr>\n",
       "    <tr>\n",
       "      <th>1</th>\n",
       "      <td>1</td>\n",
       "      <td>30S_110E</td>\n",
       "      <td>(-40, 110, -30, 120)</td>\n",
       "    </tr>\n",
       "  </tbody>\n",
       "</table>\n",
       "</div>"
      ],
      "text/plain": [
       "   index2  tile_key                 coord\n",
       "0       0  20S_170E  (-30, 170, -20, 180)\n",
       "1       1  30S_110E  (-40, 110, -30, 120)"
      ]
     },
     "execution_count": 67,
     "metadata": {},
     "output_type": "execute_result"
    }
   ],
   "source": [
    "df.head(2)"
   ]
  },
  {
   "cell_type": "code",
   "execution_count": 69,
   "metadata": {
    "collapsed": false
   },
   "outputs": [
    {
     "data": {
      "text/plain": [
       "504"
      ]
     },
     "execution_count": 69,
     "metadata": {},
     "output_type": "execute_result"
    }
   ],
   "source": [
    "len(df['coord'])"
   ]
  },
  {
   "cell_type": "code",
   "execution_count": 75,
   "metadata": {
    "collapsed": false
   },
   "outputs": [
    {
     "name": "stdout",
     "output_type": "stream",
     "text": [
      "This succeeded: (-30, 170, -20, 180)\n",
      "This succeeded: (-40, 110, -30, 120)\n",
      "This succeeded: (-10, 0, 0, 10)\n",
      "This succeeded: (30, 150, 40, 160)\n",
      "This succeeded: (0, 70, 10, 80)\n",
      "This succeeded: (10, 120, 20, 130)\n",
      "This succeeded: (-30, 130, -20, 140)\n",
      "This succeeded: (40, 20, 50, 30)\n",
      "This succeeded: (70, 60, 80, 70)\n",
      "This succeeded: (30, -160, 40, -150)\n",
      "This succeeded: (-50, 140, -40, 150)\n",
      "This succeeded: (40, 100, 50, 110)\n",
      "This succeeded: (70, -160, 80, -150)\n",
      "This succeeded: (-30, 30, -20, 40)\n",
      "This succeeded: (-20, 70, -10, 80)\n",
      "This succeeded: (40, 120, 50, 130)\n",
      "This succeeded: (-50, 40, -40, 50)\n",
      "This succeeded: (30, 50, 40, 60)\n",
      "This succeeded: (50, -50, 60, -40)\n",
      "This succeeded: (0, -70, 10, -60)\n",
      "This succeeded: (30, 20, 40, 30)\n",
      "This succeeded: (60, -90, 70, -80)\n",
      "This succeeded: (30, 40, 40, 50)\n",
      "This succeeded: (60, 110, 70, 120)\n",
      "This succeeded: (70, 30, 80, 40)\n",
      "This succeeded: (-50, -170, -40, -160)\n",
      "This succeeded: (-40, -90, -30, -80)\n",
      "This succeeded: (-50, -40, -40, -30)\n",
      "This succeeded: (0, -150, 10, -140)\n",
      "This succeeded: (-20, 140, -10, 150)\n",
      "This succeeded: (-30, -100, -20, -90)\n",
      "This succeeded: (60, -180, 70, -170)\n",
      "This succeeded: (10, 140, 20, 150)\n",
      "This succeeded: (-10, 60, 0, 70)\n",
      "This succeeded: (20, 10, 30, 20)\n",
      "This succeeded: (50, -170, 60, -160)\n",
      "This succeeded: (30, 140, 40, 150)\n",
      "This succeeded: (-10, -80, 0, -70)\n",
      "This succeeded: (70, 50, 80, 60)\n",
      "This succeeded: (-30, 50, -20, 60)\n",
      "This succeeded: (50, 40, 60, 50)\n",
      "This succeeded: (20, -180, 30, -170)\n",
      "This succeeded: (0, 100, 10, 110)\n",
      "This succeeded: (40, 70, 50, 80)\n",
      "This succeeded: (-10, 130, 0, 140)\n",
      "This succeeded: (-60, 110, -50, 120)\n",
      "This succeeded: (20, 70, 30, 80)\n",
      "This succeeded: (-20, 100, -10, 110)\n",
      "This succeeded: (20, 120, 30, 130)\n",
      "This succeeded: (-10, 20, 0, 30)\n",
      "This succeeded: (10, -130, 20, -120)\n",
      "This succeeded: (-60, -100, -50, -90)\n",
      "This succeeded: (10, -10, 20, 0)\n",
      "This succeeded: (-20, 60, -10, 70)\n",
      "This succeeded: (-60, 150, -50, 160)\n",
      "This succeeded: (20, -120, 30, -110)\n",
      "This succeeded: (10, 80, 20, 90)\n",
      "This succeeded: (70, -140, 80, -130)\n",
      "This succeeded: (-10, 80, 0, 90)\n",
      "This succeeded: (70, -180, 80, -170)\n",
      "This succeeded: (70, 120, 80, 130)\n",
      "This succeeded: (50, 70, 60, 80)\n",
      "This succeeded: (-60, 160, -50, 170)\n",
      "This succeeded: (70, 100, 80, 110)\n",
      "This succeeded: (10, 10, 20, 20)\n",
      "This succeeded: (50, 10, 60, 20)\n",
      "This succeeded: (60, 160, 70, 170)\n",
      "This succeeded: (-40, -110, -30, -100)\n",
      "This succeeded: (10, -80, 20, -70)\n",
      "This succeeded: (50, -90, 60, -80)\n",
      "--------------------------------\n",
      "This failed: node[\"power\"=\"generator\"](-60, -70, -50, -60);out skel;\n",
      "This succeeded: (-20, -160, -10, -150)\n",
      "This succeeded: (-20, 170, -10, 180)\n",
      "This succeeded: (10, -50, 20, -40)\n",
      "This succeeded: (-10, 120, 0, 130)\n",
      "This succeeded: (-40, 80, -30, 90)\n",
      "This succeeded: (60, 90, 70, 100)\n",
      "This succeeded: (70, -20, 80, -10)\n",
      "This succeeded: (0, 50, 10, 60)\n",
      "This succeeded: (20, 20, 30, 30)\n",
      "This succeeded: (-30, 0, -20, 10)\n",
      "This succeeded: (70, 160, 80, 170)\n",
      "This succeeded: (50, 170, 60, 180)\n",
      "This succeeded: (60, -120, 70, -110)\n",
      "This succeeded: (-20, 50, -10, 60)\n",
      "This succeeded: (-40, -100, -30, -90)\n",
      "This succeeded: (-20, 90, -10, 100)\n",
      "This succeeded: (30, -170, 40, -160)\n",
      "This succeeded: (-30, -130, -20, -120)\n",
      "This succeeded: (30, -140, 40, -130)\n",
      "This succeeded: (-10, 160, 0, 170)\n",
      "This succeeded: (-10, 50, 0, 60)\n",
      "This succeeded: (-30, 10, -20, 20)\n",
      "This succeeded: (20, 170, 30, 180)\n",
      "This succeeded: (-40, 90, -30, 100)\n",
      "This succeeded: (-10, -120, 0, -110)\n",
      "This succeeded: (60, -140, 70, -130)\n",
      "This succeeded: (30, 30, 40, 40)\n",
      "This succeeded: (-30, -40, -20, -30)\n",
      "This succeeded: (30, -150, 40, -140)\n",
      "This succeeded: (10, -60, 20, -50)\n",
      "This succeeded: (20, -150, 30, -140)\n",
      "This succeeded: (50, -40, 60, -30)\n",
      "This succeeded: (40, -140, 50, -130)\n",
      "This succeeded: (20, -110, 30, -100)\n",
      "This succeeded: (-60, 10, -50, 20)\n",
      "This succeeded: (-10, -130, 0, -120)\n",
      "This succeeded: (50, 150, 60, 160)\n",
      "This succeeded: (30, 130, 40, 140)\n",
      "This succeeded: (0, -10, 10, 0)\n",
      "This succeeded: (-10, -150, 0, -140)\n",
      "This succeeded: (0, -90, 10, -80)\n",
      "This succeeded: (-60, -60, -50, -50)\n",
      "This succeeded: (-40, -80, -30, -70)\n",
      "This succeeded: (-50, -180, -40, -170)\n",
      "This succeeded: (-20, -50, -10, -40)\n",
      "This succeeded: (-30, -120, -20, -110)\n",
      "This succeeded: (40, -30, 50, -20)\n",
      "This succeeded: (70, -30, 80, -20)\n",
      "This succeeded: (0, -120, 10, -110)\n",
      "This succeeded: (50, 0, 60, 10)\n",
      "This succeeded: (30, -100, 40, -90)\n",
      "This succeeded: (-20, -20, -10, -10)\n",
      "This succeeded: (-50, 170, -40, 180)\n",
      "This succeeded: (-40, 100, -30, 110)\n",
      "This succeeded: (70, -70, 80, -60)\n",
      "This succeeded: (60, -80, 70, -70)\n",
      "This succeeded: (-30, -80, -20, -70)\n",
      "This succeeded: (-20, 30, -10, 40)\n",
      "This succeeded: (70, -50, 80, -40)\n",
      "This succeeded: (50, 80, 60, 90)\n",
      "This succeeded: (10, -180, 20, -170)\n",
      "This succeeded: (0, 20, 10, 30)\n",
      "This succeeded: (-40, -160, -30, -150)\n",
      "This succeeded: (50, 90, 60, 100)\n",
      "This succeeded: (-20, -80, -10, -70)\n",
      "This succeeded: (-10, 100, 0, 110)\n",
      "This succeeded: (-20, 110, -10, 120)\n",
      "This succeeded: (-60, -40, -50, -30)\n",
      "This succeeded: (10, -90, 20, -80)\n",
      "This succeeded: (70, -80, 80, -70)\n",
      "This succeeded: (0, 10, 10, 20)\n",
      "This succeeded: (-10, 150, 0, 160)\n",
      "This succeeded: (40, -170, 50, -160)\n",
      "This succeeded: (-40, -150, -30, -140)\n",
      "This succeeded: (-30, 100, -20, 110)\n",
      "This succeeded: (0, 30, 10, 40)\n",
      "This succeeded: (60, -20, 70, -10)\n",
      "This succeeded: (-30, 60, -20, 70)\n",
      "This succeeded: (60, 150, 70, 160)\n",
      "This succeeded: (40, -120, 50, -110)\n",
      "This succeeded: (0, -160, 10, -150)\n",
      "This succeeded: (20, -80, 30, -70)\n",
      "This succeeded: (40, 30, 50, 40)\n",
      "This succeeded: (10, 160, 20, 170)\n",
      "This succeeded: (-20, -100, -10, -90)\n",
      "This succeeded: (-40, 20, -30, 30)\n",
      "This succeeded: (30, -80, 40, -70)\n",
      "This succeeded: (0, -130, 10, -120)\n",
      "This succeeded: (40, -20, 50, -10)\n",
      "This succeeded: (70, 40, 80, 50)\n",
      "This succeeded: (-30, 150, -20, 160)\n",
      "This succeeded: (60, 30, 70, 40)\n",
      "This succeeded: (-10, 10, 0, 20)\n",
      "This succeeded: (30, 60, 40, 70)\n",
      "This succeeded: (-50, 10, -40, 20)\n",
      "This succeeded: (-50, 80, -40, 90)\n",
      "This succeeded: (70, 20, 80, 30)\n",
      "This succeeded: (70, -110, 80, -100)\n",
      "This succeeded: (20, 0, 30, 10)\n",
      "This succeeded: (-20, 80, -10, 90)\n",
      "This succeeded: (30, 80, 40, 90)\n",
      "This succeeded: (30, -20, 40, -10)\n",
      "This succeeded: (60, 60, 70, 70)\n",
      "This succeeded: (60, 100, 70, 110)\n",
      "This succeeded: (-30, -50, -20, -40)\n",
      "This succeeded: (-50, 110, -40, 120)\n",
      "This succeeded: (30, -50, 40, -40)\n",
      "This succeeded: (-20, -40, -10, -30)\n",
      "This succeeded: (40, 50, 50, 60)\n",
      "This succeeded: (-30, -150, -20, -140)\n",
      "This succeeded: (50, -110, 60, -100)\n",
      "This succeeded: (-20, 160, -10, 170)\n",
      "This succeeded: (-60, 40, -50, 50)\n",
      "This succeeded: (50, 120, 60, 130)\n",
      "This succeeded: (60, 120, 70, 130)\n",
      "This succeeded: (-40, -70, -30, -60)\n",
      "This succeeded: (-10, 30, 0, 40)\n",
      "This succeeded: (-10, 40, 0, 50)\n",
      "This succeeded: (-60, -80, -50, -70)\n",
      "This succeeded: (50, -130, 60, -120)\n",
      "This succeeded: (50, -120, 60, -110)\n",
      "This succeeded: (20, -140, 30, -130)\n",
      "This succeeded: (-60, 30, -50, 40)\n",
      "This succeeded: (60, -40, 70, -30)\n",
      "This succeeded: (40, -70, 50, -60)\n",
      "This succeeded: (-10, -170, 0, -160)\n",
      "This succeeded: (20, -100, 30, -90)\n",
      "This succeeded: (-40, -10, -30, 0)\n",
      "This succeeded: (30, 10, 40, 20)\n",
      "This succeeded: (-10, -40, 0, -30)\n",
      "This succeeded: (40, 10, 50, 20)\n",
      "This succeeded: (-60, 120, -50, 130)\n",
      "This succeeded: (-40, -170, -30, -160)\n",
      "This succeeded: (70, -90, 80, -80)\n",
      "This succeeded: (-20, -120, -10, -110)\n",
      "This succeeded: (-50, 0, -40, 10)\n",
      "This succeeded: (40, -40, 50, -30)\n",
      "This succeeded: (0, 150, 10, 160)\n",
      "This succeeded: (-10, -90, 0, -80)\n",
      "This succeeded: (-50, 150, -40, 160)\n",
      "This succeeded: (50, -30, 60, -20)\n",
      "This succeeded: (-40, 140, -30, 150)\n",
      "This succeeded: (20, 110, 30, 120)\n",
      "This succeeded: (-30, 160, -20, 170)\n",
      "This succeeded: (-60, 50, -50, 60)\n",
      "This succeeded: (30, -40, 40, -30)\n",
      "This succeeded: (-10, -180, 0, -170)\n",
      "This succeeded: (-50, 160, -40, 170)\n",
      "This succeeded: (-30, 140, -20, 150)\n",
      "This succeeded: (-30, -20, -20, -10)\n",
      "This succeeded: (-30, 90, -20, 100)\n",
      "This succeeded: (-60, -130, -50, -120)\n",
      "This succeeded: (50, -160, 60, -150)\n",
      "This succeeded: (-40, 120, -30, 130)\n",
      "This succeeded: (20, -130, 30, -120)\n",
      "This succeeded: (50, -140, 60, -130)\n",
      "This succeeded: (-10, -110, 0, -100)\n",
      "This succeeded: (-20, -130, -10, -120)\n",
      "This succeeded: (-20, -110, -10, -100)\n",
      "This succeeded: (70, -100, 80, -90)\n",
      "This succeeded: (-10, 140, 0, 150)\n",
      "This succeeded: (-50, -50, -40, -40)\n",
      "This succeeded: (60, 80, 70, 90)\n",
      "This succeeded: (40, -90, 50, -80)\n",
      "This succeeded: (60, -10, 70, 0)\n",
      "This succeeded: (70, -120, 80, -110)\n",
      "This succeeded: (-30, -30, -20, -20)\n",
      "This succeeded: (40, 60, 50, 70)\n",
      "This succeeded: (40, -150, 50, -140)\n",
      "This succeeded: (10, 100, 20, 110)\n",
      "This succeeded: (10, -30, 20, -20)\n",
      "This succeeded: (70, -10, 80, 0)\n",
      "This succeeded: (-20, 40, -10, 50)\n",
      "This succeeded: (30, -180, 40, -170)\n",
      "This succeeded: (70, -40, 80, -30)\n",
      "This succeeded: (50, 60, 60, 70)\n",
      "This succeeded: (10, 50, 20, 60)\n",
      "This succeeded: (-10, 70, 0, 80)\n",
      "This succeeded: (60, 130, 70, 140)\n",
      "This succeeded: (-30, -90, -20, -80)\n",
      "This succeeded: (-10, 170, 0, 180)\n",
      "This succeeded: (-40, 30, -30, 40)\n",
      "This succeeded: (50, -100, 60, -90)\n",
      "This succeeded: (40, 150, 50, 160)\n",
      "This succeeded: (70, 130, 80, 140)\n",
      "This succeeded: (0, 170, 10, 180)\n",
      "This succeeded: (0, 130, 10, 140)\n",
      "This succeeded: (30, 120, 40, 130)\n",
      "This succeeded: (0, 40, 10, 50)\n",
      "This succeeded: (-20, 0, -10, 10)\n",
      "This succeeded: (30, -90, 40, -80)\n",
      "This succeeded: (-10, -60, 0, -50)\n",
      "This succeeded: (50, 130, 60, 140)\n",
      "This succeeded: (10, -70, 20, -60)\n",
      "This succeeded: (50, 160, 60, 170)\n",
      "This succeeded: (-50, -90, -40, -80)\n",
      "This succeeded: (20, 40, 30, 50)\n",
      "This succeeded: (-20, -70, -10, -60)\n",
      "This succeeded: (20, 150, 30, 160)\n",
      "This succeeded: (10, -120, 20, -110)\n",
      "This succeeded: (-40, -40, -30, -30)\n",
      "This succeeded: (60, -50, 70, -40)\n",
      "This succeeded: (50, -150, 60, -140)\n",
      "This succeeded: (50, 100, 60, 110)\n",
      "This succeeded: (-20, 150, -10, 160)\n",
      "This succeeded: (0, 160, 10, 170)\n",
      "This succeeded: (0, -40, 10, -30)\n",
      "This succeeded: (-20, -140, -10, -130)\n",
      "This succeeded: (10, 110, 20, 120)\n",
      "This succeeded: (-10, -140, 0, -130)\n",
      "This succeeded: (-50, -160, -40, -150)\n",
      "This succeeded: (-40, -120, -30, -110)\n",
      "This succeeded: (-40, -60, -30, -50)\n",
      "This succeeded: (-60, -90, -50, -80)\n",
      "This succeeded: (10, 40, 20, 50)\n",
      "This succeeded: (-20, 120, -10, 130)\n",
      "This succeeded: (40, -60, 50, -50)\n",
      "This succeeded: (20, 130, 30, 140)\n",
      "This succeeded: (-50, 100, -40, 110)\n",
      "This succeeded: (60, 140, 70, 150)\n",
      "This succeeded: (70, 150, 80, 160)\n",
      "This succeeded: (20, 100, 30, 110)\n",
      "This succeeded: (-60, 70, -50, 80)\n",
      "This succeeded: (40, -80, 50, -70)\n",
      "This succeeded: (-50, -100, -40, -90)\n",
      "This succeeded: (-20, -170, -10, -160)\n",
      "This succeeded: (-50, 120, -40, 130)\n",
      "This succeeded: (30, -70, 40, -60)\n",
      "This succeeded: (10, 0, 20, 10)\n",
      "This succeeded: (40, -10, 50, 0)\n",
      "This succeeded: (40, 40, 50, 50)\n",
      "This succeeded: (-60, -10, -50, 0)\n",
      "This succeeded: (40, 110, 50, 120)\n",
      "This succeeded: (10, -20, 20, -10)\n",
      "This succeeded: (-60, -180, -50, -170)\n",
      "This succeeded: (-10, -20, 0, -10)\n",
      "This succeeded: (40, 90, 50, 100)\n",
      "This succeeded: (-60, -30, -50, -20)\n",
      "This succeeded: (-60, 170, -50, 180)\n",
      "This succeeded: (30, -110, 40, -100)\n",
      "This succeeded: (30, 100, 40, 110)\n",
      "This succeeded: (60, -100, 70, -90)\n",
      "This succeeded: (-30, 20, -20, 30)\n",
      "This succeeded: (-30, 110, -20, 120)\n",
      "This succeeded: (20, -10, 30, 0)\n",
      "This succeeded: (-30, 120, -20, 130)\n",
      "This succeeded: (30, -60, 40, -50)\n",
      "This succeeded: (-60, -110, -50, -100)\n",
      "This succeeded: (-50, -30, -40, -20)\n",
      "This succeeded: (60, -170, 70, -160)\n",
      "This succeeded: (0, 90, 10, 100)\n",
      "This succeeded: (20, 60, 30, 70)\n",
      "This succeeded: (0, -60, 10, -50)\n",
      "This succeeded: (20, -50, 30, -40)\n",
      "This succeeded: (-20, 20, -10, 30)\n",
      "This succeeded: (10, 150, 20, 160)\n",
      "This succeeded: (10, 170, 20, 180)\n",
      "This succeeded: (40, 170, 50, 180)\n",
      "This succeeded: (-20, -60, -10, -50)\n",
      "This succeeded: (20, 30, 30, 40)\n",
      "This succeeded: (-20, 10, -10, 20)\n",
      "This succeeded: (70, 170, 80, 180)\n",
      "This succeeded: (-50, 30, -40, 40)\n",
      "This succeeded: (50, -70, 60, -60)\n",
      "This succeeded: (-60, 130, -50, 140)\n",
      "This succeeded: (60, 50, 70, 60)\n",
      "This succeeded: (30, 170, 40, 180)\n",
      "This succeeded: (70, 80, 80, 90)\n",
      "This succeeded: (20, -40, 30, -30)\n",
      "This succeeded: (-50, 130, -40, 140)\n",
      "This succeeded: (0, -50, 10, -40)\n",
      "This succeeded: (0, 0, 10, 10)\n",
      "This succeeded: (50, 20, 60, 30)\n",
      "This succeeded: (40, 160, 50, 170)\n",
      "This succeeded: (-40, 60, -30, 70)\n",
      "This succeeded: (60, -30, 70, -20)\n",
      "This succeeded: (0, -180, 10, -170)\n",
      "This succeeded: (40, -160, 50, -150)\n",
      "This succeeded: (-60, -120, -50, -110)\n",
      "This succeeded: (10, -40, 20, -30)\n",
      "This succeeded: (-10, 110, 0, 120)\n",
      "This succeeded: (-50, -120, -40, -110)\n",
      "This succeeded: (-40, 40, -30, 50)\n",
      "This succeeded: (70, 140, 80, 150)\n",
      "This succeeded: (40, -50, 50, -40)\n",
      "This succeeded: (-40, 160, -30, 170)\n",
      "This succeeded: (-20, -10, -10, 0)\n",
      "This succeeded: (-50, -150, -40, -140)\n",
      "This succeeded: (50, -180, 60, -170)\n",
      "This succeeded: (-40, 50, -30, 60)\n",
      "This succeeded: (-50, -80, -40, -70)\n",
      "This succeeded: (30, -10, 40, 0)\n",
      "This succeeded: (-50, -70, -40, -60)\n",
      "This succeeded: (20, -90, 30, -80)\n",
      "This succeeded: (50, -10, 60, 0)\n",
      "This succeeded: (-50, 90, -40, 100)\n",
      "This succeeded: (20, -20, 30, -10)\n",
      "This succeeded: (40, -180, 50, -170)\n",
      "This succeeded: (-10, -10, 0, 0)\n",
      "This succeeded: (40, 130, 50, 140)\n",
      "This succeeded: (20, 90, 30, 100)\n",
      "This succeeded: (-40, 150, -30, 160)\n",
      "This succeeded: (50, 110, 60, 120)\n",
      "This succeeded: (-40, -140, -30, -130)\n",
      "This succeeded: (-50, -60, -40, -50)\n",
      "This succeeded: (-60, 140, -50, 150)\n",
      "This succeeded: (0, -20, 10, -10)\n",
      "This succeeded: (10, -110, 20, -100)\n",
      "This succeeded: (60, -160, 70, -150)\n",
      "This succeeded: (-60, 60, -50, 70)\n",
      "This succeeded: (10, 70, 20, 80)\n",
      "This succeeded: (60, 0, 70, 10)\n",
      "This succeeded: (-50, -140, -40, -130)\n",
      "This succeeded: (0, -170, 10, -160)\n",
      "This succeeded: (10, 60, 20, 70)\n",
      "This succeeded: (40, -130, 50, -120)\n",
      "This succeeded: (0, -100, 10, -90)\n",
      "This succeeded: (70, -130, 80, -120)\n",
      "This succeeded: (-30, -110, -20, -100)\n",
      "This succeeded: (50, 30, 60, 40)\n",
      "This succeeded: (-30, 40, -20, 50)\n",
      "This succeeded: (30, -130, 40, -120)\n",
      "This succeeded: (-50, -20, -40, -10)\n",
      "This succeeded: (0, 140, 10, 150)\n",
      "This succeeded: (10, -160, 20, -150)\n",
      "This succeeded: (-30, 70, -20, 80)\n",
      "This succeeded: (60, 20, 70, 30)\n",
      "This succeeded: (-30, -160, -20, -150)\n",
      "This succeeded: (20, -60, 30, -50)\n",
      "This succeeded: (-10, -30, 0, -20)\n",
      "This succeeded: (-20, -150, -10, -140)\n",
      "This succeeded: (-10, -70, 0, -60)\n",
      "This succeeded: (-20, 130, -10, 140)\n",
      "This succeeded: (-60, 90, -50, 100)\n",
      "This succeeded: (20, -70, 30, -60)\n",
      "This succeeded: (-10, -50, 0, -40)\n",
      "This succeeded: (0, -140, 10, -130)\n",
      "This succeeded: (20, 140, 30, 150)\n",
      "This succeeded: (-40, 70, -30, 80)\n",
      "This succeeded: (10, -170, 20, -160)\n",
      "This succeeded: (70, 0, 80, 10)\n",
      "This succeeded: (-30, -10, -20, 0)\n",
      "This succeeded: (10, -140, 20, -130)\n",
      "This succeeded: (10, 130, 20, 140)\n",
      "This succeeded: (-60, -150, -50, -140)\n",
      "This succeeded: (0, 120, 10, 130)\n",
      "This succeeded: (-30, -60, -20, -50)\n",
      "This succeeded: (60, -60, 70, -50)\n",
      "This succeeded: (-40, 130, -30, 140)\n",
      "This succeeded: (60, 70, 70, 80)\n",
      "This succeeded: (-30, 80, -20, 90)\n",
      "This succeeded: (30, 90, 40, 100)\n",
      "This succeeded: (0, -30, 10, -20)\n",
      "This succeeded: (60, 10, 70, 20)\n",
      "This succeeded: (60, -110, 70, -100)\n",
      "This succeeded: (30, 110, 40, 120)\n",
      "This succeeded: (20, 80, 30, 90)\n",
      "This succeeded: (70, 90, 80, 100)\n",
      "This succeeded: (10, 90, 20, 100)\n",
      "This succeeded: (20, 160, 30, 170)\n",
      "This succeeded: (50, 140, 60, 150)\n",
      "This succeeded: (-60, -160, -50, -150)\n",
      "This succeeded: (10, 20, 20, 30)\n",
      "This succeeded: (-60, -50, -50, -40)\n",
      "This succeeded: (0, -80, 10, -70)\n",
      "This succeeded: (60, 40, 70, 50)\n",
      "This succeeded: (-20, -30, -10, -20)\n",
      "This succeeded: (-20, -90, -10, -80)\n",
      "This succeeded: (-60, 100, -50, 110)\n",
      "This succeeded: (60, -130, 70, -120)\n",
      "This succeeded: (-40, 170, -30, 180)\n",
      "This succeeded: (-50, -130, -40, -120)\n",
      "This succeeded: (-60, -140, -50, -130)\n",
      "This succeeded: (-60, -20, -50, -10)\n",
      "This succeeded: (70, 110, 80, 120)\n",
      "This succeeded: (-40, -50, -30, -40)\n",
      "This succeeded: (60, -150, 70, -140)\n",
      "This succeeded: (30, -120, 40, -110)\n",
      "This succeeded: (-50, 60, -40, 70)\n",
      "This succeeded: (0, 60, 10, 70)\n",
      "This succeeded: (-40, 0, -30, 10)\n",
      "This succeeded: (70, 10, 80, 20)\n",
      "This succeeded: (70, -170, 80, -160)\n",
      "This succeeded: (30, -30, 40, -20)\n",
      "This succeeded: (0, 80, 10, 90)\n",
      "This succeeded: (-40, 10, -30, 20)\n",
      "This succeeded: (0, -110, 10, -100)\n",
      "This succeeded: (-10, 90, 0, 100)\n",
      "This succeeded: (20, 50, 30, 60)\n",
      "This succeeded: (-60, -170, -50, -160)\n",
      "This succeeded: (40, -100, 50, -90)\n",
      "This succeeded: (-40, -180, -30, -170)\n",
      "This succeeded: (-60, 80, -50, 90)\n",
      "This succeeded: (70, -150, 80, -140)\n",
      "This succeeded: (30, 160, 40, 170)\n",
      "This succeeded: (-50, 20, -40, 30)\n",
      "This succeeded: (-30, -70, -20, -60)\n",
      "This succeeded: (10, -150, 20, -140)\n",
      "This succeeded: (-60, 20, -50, 30)\n",
      "This succeeded: (50, -60, 60, -50)\n",
      "This succeeded: (50, 50, 60, 60)\n",
      "This succeeded: (0, 110, 10, 120)\n",
      "This succeeded: (-30, -140, -20, -130)\n",
      "This succeeded: (50, -80, 60, -70)\n",
      "This succeeded: (-60, 0, -50, 10)\n",
      "This succeeded: (40, 140, 50, 150)\n",
      "This succeeded: (-40, -30, -30, -20)\n",
      "This succeeded: (-50, -10, -40, 0)\n",
      "This succeeded: (-50, -110, -40, -100)\n",
      "This succeeded: (-30, -180, -20, -170)\n",
      "This succeeded: (40, 0, 50, 10)\n",
      "This succeeded: (10, -100, 20, -90)\n",
      "This succeeded: (20, -30, 30, -20)\n",
      "This succeeded: (-10, -160, 0, -150)\n",
      "This succeeded: (40, -110, 50, -100)\n",
      "This succeeded: (-40, -130, -30, -120)\n",
      "This succeeded: (30, 0, 40, 10)\n",
      "This succeeded: (70, -60, 80, -50)\n",
      "This succeeded: (-50, 50, -40, 60)\n",
      "This succeeded: (20, -170, 30, -160)\n",
      "This succeeded: (30, 70, 40, 80)\n",
      "This succeeded: (70, 70, 80, 80)\n",
      "This succeeded: (-10, -100, 0, -90)\n",
      "This succeeded: (60, -70, 70, -60)\n",
      "This succeeded: (10, 30, 20, 40)\n",
      "This succeeded: (40, 80, 50, 90)\n",
      "This succeeded: (-50, 70, -40, 80)\n",
      "This succeeded: (-30, -170, -20, -160)\n",
      "This succeeded: (60, 170, 70, 180)\n",
      "This succeeded: (50, -20, 60, -10)\n",
      "This succeeded: (-20, -180, -10, -170)\n",
      "This succeeded: (-40, -20, -30, -10)\n",
      "This succeeded: (20, -160, 30, -150)\n"
     ]
    }
   ],
   "source": [
    "import overpass\n",
    "import csv\n",
    "import sys\n",
    "api = overpass.API(timeout=900)\n",
    "\n",
    "coords = []\n",
    "\n",
    "with open('bbox.csv') as theFile:\n",
    "    csvReader = csv.reader(theFile)\n",
    "    csvReader.__next__()\n",
    "    for row in csvReader:\n",
    "\t    coords.append(row[2])\n",
    "\n",
    "for coord in coords:\n",
    "    api_calls = []\n",
    "    params = 'node[\"power\"=\"generator\"]'+coord+';out skel;'\n",
    "\t\n",
    "    try:\n",
    "        response = api.Get(params)\n",
    "        #print response\n",
    "        api_calls.append(response)\n",
    "        print ('This succeeded: {0}'.format(coord))\n",
    "    except:\n",
    "        print ('--------------------------------')\n",
    "        print ('This failed: {0}'.format(params))\n",
    "        continue"
   ]
  },
  {
   "cell_type": "code",
   "execution_count": 84,
   "metadata": {
    "collapsed": true
   },
   "outputs": [],
   "source": [
    "import json\n",
    "import requests\n",
    "import numpy as np\n",
    "import pandas as pd"
   ]
  },
  {
   "cell_type": "code",
   "execution_count": 85,
   "metadata": {
    "collapsed": true
   },
   "outputs": [],
   "source": [
    "table = pd.io.json.json_normalize(response['features'])"
   ]
  },
  {
   "cell_type": "code",
   "execution_count": 86,
   "metadata": {
    "collapsed": false
   },
   "outputs": [
    {
     "data": {
      "text/plain": [
       "['geometry.coordinates',\n",
       " 'geometry.type',\n",
       " 'id',\n",
       " 'properties.generator:method',\n",
       " 'properties.generator:output:electricity',\n",
       " 'properties.generator:source',\n",
       " 'properties.name',\n",
       " 'properties.power',\n",
       " 'type']"
      ]
     },
     "execution_count": 86,
     "metadata": {},
     "output_type": "execute_result"
    }
   ],
   "source": [
    "list(table)"
   ]
  },
  {
   "cell_type": "code",
   "execution_count": 87,
   "metadata": {
    "collapsed": false
   },
   "outputs": [
    {
     "data": {
      "text/plain": [
       "geometry.coordinates                         0\n",
       "geometry.type                                0\n",
       "id                                           0\n",
       "properties.generator:method                119\n",
       "properties.generator:output:electricity    119\n",
       "properties.generator:source                 61\n",
       "properties.name                            104\n",
       "properties.power                            60\n",
       "type                                         0\n",
       "dtype: int64"
      ]
     },
     "execution_count": 87,
     "metadata": {},
     "output_type": "execute_result"
    }
   ],
   "source": [
    "table.isnull().sum()"
   ]
  },
  {
   "cell_type": "code",
   "execution_count": 90,
   "metadata": {
    "collapsed": false,
    "scrolled": false
   },
   "outputs": [
    {
     "data": {
      "text/html": [
       "<div>\n",
       "<table border=\"1\" class=\"dataframe\">\n",
       "  <thead>\n",
       "    <tr style=\"text-align: right;\">\n",
       "      <th></th>\n",
       "      <th>geometry.coordinates</th>\n",
       "      <th>geometry.type</th>\n",
       "      <th>id</th>\n",
       "      <th>properties.generator:method</th>\n",
       "      <th>properties.generator:output:electricity</th>\n",
       "      <th>properties.generator:source</th>\n",
       "      <th>properties.name</th>\n",
       "      <th>properties.power</th>\n",
       "      <th>type</th>\n",
       "    </tr>\n",
       "  </thead>\n",
       "  <tbody>\n",
       "    <tr>\n",
       "      <th>0</th>\n",
       "      <td>(-156.5459296, 20.8056515)</td>\n",
       "      <td>Point</td>\n",
       "      <td>1843489091</td>\n",
       "      <td>NaN</td>\n",
       "      <td>NaN</td>\n",
       "      <td>NaN</td>\n",
       "      <td>NaN</td>\n",
       "      <td>NaN</td>\n",
       "      <td>Feature</td>\n",
       "    </tr>\n",
       "    <tr>\n",
       "      <th>1</th>\n",
       "      <td>(-156.5551839, 20.8224748)</td>\n",
       "      <td>Point</td>\n",
       "      <td>1843489092</td>\n",
       "      <td>NaN</td>\n",
       "      <td>NaN</td>\n",
       "      <td>NaN</td>\n",
       "      <td>NaN</td>\n",
       "      <td>NaN</td>\n",
       "      <td>Feature</td>\n",
       "    </tr>\n",
       "    <tr>\n",
       "      <th>2</th>\n",
       "      <td>(-156.5481612, 20.8099418)</td>\n",
       "      <td>Point</td>\n",
       "      <td>1843489093</td>\n",
       "      <td>NaN</td>\n",
       "      <td>NaN</td>\n",
       "      <td>NaN</td>\n",
       "      <td>NaN</td>\n",
       "      <td>NaN</td>\n",
       "      <td>Feature</td>\n",
       "    </tr>\n",
       "    <tr>\n",
       "      <th>3</th>\n",
       "      <td>(-156.5532359, 20.8194611)</td>\n",
       "      <td>Point</td>\n",
       "      <td>1843489094</td>\n",
       "      <td>NaN</td>\n",
       "      <td>NaN</td>\n",
       "      <td>NaN</td>\n",
       "      <td>NaN</td>\n",
       "      <td>NaN</td>\n",
       "      <td>Feature</td>\n",
       "    </tr>\n",
       "    <tr>\n",
       "      <th>4</th>\n",
       "      <td>(-156.5538428, 20.8205249)</td>\n",
       "      <td>Point</td>\n",
       "      <td>1843489095</td>\n",
       "      <td>NaN</td>\n",
       "      <td>NaN</td>\n",
       "      <td>NaN</td>\n",
       "      <td>NaN</td>\n",
       "      <td>NaN</td>\n",
       "      <td>Feature</td>\n",
       "    </tr>\n",
       "  </tbody>\n",
       "</table>\n",
       "</div>"
      ],
      "text/plain": [
       "         geometry.coordinates geometry.type          id  \\\n",
       "0  (-156.5459296, 20.8056515)         Point  1843489091   \n",
       "1  (-156.5551839, 20.8224748)         Point  1843489092   \n",
       "2  (-156.5481612, 20.8099418)         Point  1843489093   \n",
       "3  (-156.5532359, 20.8194611)         Point  1843489094   \n",
       "4  (-156.5538428, 20.8205249)         Point  1843489095   \n",
       "\n",
       "  properties.generator:method properties.generator:output:electricity  \\\n",
       "0                         NaN                                     NaN   \n",
       "1                         NaN                                     NaN   \n",
       "2                         NaN                                     NaN   \n",
       "3                         NaN                                     NaN   \n",
       "4                         NaN                                     NaN   \n",
       "\n",
       "  properties.generator:source properties.name properties.power     type  \n",
       "0                         NaN             NaN              NaN  Feature  \n",
       "1                         NaN             NaN              NaN  Feature  \n",
       "2                         NaN             NaN              NaN  Feature  \n",
       "3                         NaN             NaN              NaN  Feature  \n",
       "4                         NaN             NaN              NaN  Feature  "
      ]
     },
     "execution_count": 90,
     "metadata": {},
     "output_type": "execute_result"
    }
   ],
   "source": [
    "table.head()"
   ]
  },
  {
   "cell_type": "code",
   "execution_count": 93,
   "metadata": {
    "collapsed": false
   },
   "outputs": [
    {
     "data": {
      "text/plain": [
       "array([nan, 'wind', 'coal'], dtype=object)"
      ]
     },
     "execution_count": 93,
     "metadata": {},
     "output_type": "execute_result"
    }
   ],
   "source": [
    "table['properties.generator:source'].unique()"
   ]
  },
  {
   "cell_type": "code",
   "execution_count": 94,
   "metadata": {
    "collapsed": true
   },
   "outputs": [],
   "source": [
    "table.to_csv('nodes_by_bbox_grid.csv')"
   ]
  }
 ],
 "metadata": {
  "kernelspec": {
   "display_name": "Python 3",
   "language": "python",
   "name": "python3"
  },
  "language_info": {
   "codemirror_mode": {
    "name": "ipython",
    "version": 3
   },
   "file_extension": ".py",
   "mimetype": "text/x-python",
   "name": "python",
   "nbconvert_exporter": "python",
   "pygments_lexer": "ipython3",
   "version": "3.5.1"
  }
 },
 "nbformat": 4,
 "nbformat_minor": 0
}
