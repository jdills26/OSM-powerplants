{
 "cells": [
  {
   "cell_type": "markdown",
   "metadata": {},
   "source": [
    "Goal is to get only city and country into a pandas column to easily group by country or city and country later on."
   ]
  },
  {
   "cell_type": "code",
   "execution_count": null,
   "metadata": {
    "collapsed": true
   },
   "outputs": [],
   "source": [
    "import pandas as pd\n",
    "import requests"
   ]
  },
  {
   "cell_type": "code",
   "execution_count": 3,
   "metadata": {
    "collapsed": true
   },
   "outputs": [],
   "source": [
    "#import the nodes \n",
    "df = pd.read_csv(\"osm_nodes_flip.csv\", encoding = 'iso-8859-1')"
   ]
  },
  {
   "cell_type": "code",
   "execution_count": 4,
   "metadata": {
    "collapsed": true
   },
   "outputs": [],
   "source": [
    "#create desired empty columns\n",
    "df['geocode_data'] = ''\n",
    "df['city'] = ''\n",
    "df['country'] = ''"
   ]
  },
  {
   "cell_type": "code",
   "execution_count": 8,
   "metadata": {
    "collapsed": false,
    "scrolled": true
   },
   "outputs": [
    {
     "data": {
      "text/html": [
       "<div>\n",
       "<table border=\"1\" class=\"dataframe\">\n",
       "  <thead>\n",
       "    <tr style=\"text-align: right;\">\n",
       "      <th></th>\n",
       "      <th>Unnamed: 0</th>\n",
       "      <th>geometry.coordinates</th>\n",
       "      <th>geometry.type</th>\n",
       "      <th>id</th>\n",
       "      <th>properties.abandoned</th>\n",
       "      <th>properties.addr:city</th>\n",
       "      <th>properties.addr:country</th>\n",
       "      <th>properties.addr:postcode</th>\n",
       "      <th>properties.addr:state</th>\n",
       "      <th>properties.addr:street</th>\n",
       "      <th>...</th>\n",
       "      <th>properties.tourism</th>\n",
       "      <th>properties.units</th>\n",
       "      <th>properties.waterway</th>\n",
       "      <th>properties.website</th>\n",
       "      <th>properties.wikidata</th>\n",
       "      <th>properties.wikipedia</th>\n",
       "      <th>type</th>\n",
       "      <th>geocode_data</th>\n",
       "      <th>city</th>\n",
       "      <th>country</th>\n",
       "    </tr>\n",
       "  </thead>\n",
       "  <tbody>\n",
       "    <tr>\n",
       "      <th>0</th>\n",
       "      <td>0</td>\n",
       "      <td>[51.0745439, -115.4022874]</td>\n",
       "      <td>Point</td>\n",
       "      <td>30445652</td>\n",
       "      <td>NaN</td>\n",
       "      <td>NaN</td>\n",
       "      <td>NaN</td>\n",
       "      <td>NaN</td>\n",
       "      <td>NaN</td>\n",
       "      <td>NaN</td>\n",
       "      <td>...</td>\n",
       "      <td>NaN</td>\n",
       "      <td>NaN</td>\n",
       "      <td>NaN</td>\n",
       "      <td>NaN</td>\n",
       "      <td>NaN</td>\n",
       "      <td>NaN</td>\n",
       "      <td>Feature</td>\n",
       "      <td></td>\n",
       "      <td></td>\n",
       "      <td></td>\n",
       "    </tr>\n",
       "    <tr>\n",
       "      <th>1</th>\n",
       "      <td>1</td>\n",
       "      <td>[43.2439679, -116.3783661]</td>\n",
       "      <td>Point</td>\n",
       "      <td>126161573</td>\n",
       "      <td>NaN</td>\n",
       "      <td>NaN</td>\n",
       "      <td>NaN</td>\n",
       "      <td>NaN</td>\n",
       "      <td>NaN</td>\n",
       "      <td>NaN</td>\n",
       "      <td>...</td>\n",
       "      <td>NaN</td>\n",
       "      <td>NaN</td>\n",
       "      <td>NaN</td>\n",
       "      <td>NaN</td>\n",
       "      <td>NaN</td>\n",
       "      <td>NaN</td>\n",
       "      <td>Feature</td>\n",
       "      <td></td>\n",
       "      <td></td>\n",
       "      <td></td>\n",
       "    </tr>\n",
       "    <tr>\n",
       "      <th>2</th>\n",
       "      <td>2</td>\n",
       "      <td>[48.1056465, -1.9880204]</td>\n",
       "      <td>Point</td>\n",
       "      <td>263782394</td>\n",
       "      <td>NaN</td>\n",
       "      <td>NaN</td>\n",
       "      <td>NaN</td>\n",
       "      <td>NaN</td>\n",
       "      <td>NaN</td>\n",
       "      <td>NaN</td>\n",
       "      <td>...</td>\n",
       "      <td>NaN</td>\n",
       "      <td>NaN</td>\n",
       "      <td>NaN</td>\n",
       "      <td>NaN</td>\n",
       "      <td>NaN</td>\n",
       "      <td>NaN</td>\n",
       "      <td>Feature</td>\n",
       "      <td></td>\n",
       "      <td></td>\n",
       "      <td></td>\n",
       "    </tr>\n",
       "    <tr>\n",
       "      <th>3</th>\n",
       "      <td>3</td>\n",
       "      <td>[49.6197688, 10.8350521]</td>\n",
       "      <td>Point</td>\n",
       "      <td>318895153</td>\n",
       "      <td>NaN</td>\n",
       "      <td>NaN</td>\n",
       "      <td>NaN</td>\n",
       "      <td>NaN</td>\n",
       "      <td>NaN</td>\n",
       "      <td>NaN</td>\n",
       "      <td>...</td>\n",
       "      <td>NaN</td>\n",
       "      <td>NaN</td>\n",
       "      <td>NaN</td>\n",
       "      <td>NaN</td>\n",
       "      <td>NaN</td>\n",
       "      <td>NaN</td>\n",
       "      <td>Feature</td>\n",
       "      <td></td>\n",
       "      <td></td>\n",
       "      <td></td>\n",
       "    </tr>\n",
       "    <tr>\n",
       "      <th>4</th>\n",
       "      <td>4</td>\n",
       "      <td>[43.2669091, -122.4098458]</td>\n",
       "      <td>Point</td>\n",
       "      <td>365796528</td>\n",
       "      <td>NaN</td>\n",
       "      <td>NaN</td>\n",
       "      <td>NaN</td>\n",
       "      <td>NaN</td>\n",
       "      <td>OR</td>\n",
       "      <td>NaN</td>\n",
       "      <td>...</td>\n",
       "      <td>NaN</td>\n",
       "      <td>NaN</td>\n",
       "      <td>NaN</td>\n",
       "      <td>NaN</td>\n",
       "      <td>NaN</td>\n",
       "      <td>NaN</td>\n",
       "      <td>Feature</td>\n",
       "      <td></td>\n",
       "      <td></td>\n",
       "      <td></td>\n",
       "    </tr>\n",
       "  </tbody>\n",
       "</table>\n",
       "<p>5 rows × 78 columns</p>\n",
       "</div>"
      ],
      "text/plain": [
       "   Unnamed: 0        geometry.coordinates geometry.type         id  \\\n",
       "0           0  [51.0745439, -115.4022874]         Point   30445652   \n",
       "1           1  [43.2439679, -116.3783661]         Point  126161573   \n",
       "2           2    [48.1056465, -1.9880204]         Point  263782394   \n",
       "3           3    [49.6197688, 10.8350521]         Point  318895153   \n",
       "4           4  [43.2669091, -122.4098458]         Point  365796528   \n",
       "\n",
       "  properties.abandoned properties.addr:city properties.addr:country  \\\n",
       "0                  NaN                  NaN                     NaN   \n",
       "1                  NaN                  NaN                     NaN   \n",
       "2                  NaN                  NaN                     NaN   \n",
       "3                  NaN                  NaN                     NaN   \n",
       "4                  NaN                  NaN                     NaN   \n",
       "\n",
       "   properties.addr:postcode properties.addr:state properties.addr:street  \\\n",
       "0                       NaN                   NaN                    NaN   \n",
       "1                       NaN                   NaN                    NaN   \n",
       "2                       NaN                   NaN                    NaN   \n",
       "3                       NaN                   NaN                    NaN   \n",
       "4                       NaN                    OR                    NaN   \n",
       "\n",
       "    ...   properties.tourism properties.units properties.waterway  \\\n",
       "0   ...                  NaN              NaN                 NaN   \n",
       "1   ...                  NaN              NaN                 NaN   \n",
       "2   ...                  NaN              NaN                 NaN   \n",
       "3   ...                  NaN              NaN                 NaN   \n",
       "4   ...                  NaN              NaN                 NaN   \n",
       "\n",
       "  properties.website properties.wikidata  properties.wikipedia     type  \\\n",
       "0                NaN                 NaN                   NaN  Feature   \n",
       "1                NaN                 NaN                   NaN  Feature   \n",
       "2                NaN                 NaN                   NaN  Feature   \n",
       "3                NaN                 NaN                   NaN  Feature   \n",
       "4                NaN                 NaN                   NaN  Feature   \n",
       "\n",
       "   geocode_data  city country  \n",
       "0                              \n",
       "1                              \n",
       "2                              \n",
       "3                              \n",
       "4                              \n",
       "\n",
       "[5 rows x 78 columns]"
      ]
     },
     "execution_count": 8,
     "metadata": {},
     "output_type": "execute_result"
    }
   ],
   "source": [
    "df.head()"
   ]
  },
  {
   "cell_type": "markdown",
   "metadata": {},
   "source": [
    "Define reverse geocode function using google API to apply to all rows of df"
   ]
  },
  {
   "cell_type": "code",
   "execution_count": 6,
   "metadata": {
    "collapsed": false
   },
   "outputs": [],
   "source": [
    "def reverse_geocode(latlng):\n",
    "    result = {}\n",
    "    url = 'https://maps.googleapis.com/maps/api/geocode/json?latlng={}'\n",
    "    request = url.format(latlng)\n",
    "    data = requests.get(request).json()\n",
    "    if len(data['results']) > 0:\n",
    "        result = data['results'][0]\n",
    "    return result"
   ]
  },
  {
   "cell_type": "code",
   "execution_count": 11,
   "metadata": {
    "collapsed": true
   },
   "outputs": [],
   "source": [
    "#take out the brackets bc geocoder doesn't work if you don't \n",
    "df['geometry.coordinates']=df['geometry.coordinates'].str.replace(\"[\",\"\")\n",
    "df['geometry.coordinates']=df['geometry.coordinates'].str.replace(\"]\",\"\")"
   ]
  },
  {
   "cell_type": "code",
   "execution_count": 12,
   "metadata": {
    "collapsed": false
   },
   "outputs": [],
   "source": [
    "#map the geocoder to all rows using the coordinates column\n",
    "df['geocode_data'] = df['geometry.coordinates'].map(reverse_geocode)"
   ]
  },
  {
   "cell_type": "code",
   "execution_count": 14,
   "metadata": {
    "collapsed": false
   },
   "outputs": [
    {
     "data": {
      "text/plain": [
       "{'address_components': [{'long_name': 'Ken Richie Way',\n",
       "   'short_name': 'Ken Richie Way',\n",
       "   'types': ['route']},\n",
       "  {'long_name': 'Canmore',\n",
       "   'short_name': 'Canmore',\n",
       "   'types': ['locality', 'political']},\n",
       "  {'long_name': 'Division No. 15',\n",
       "   'short_name': 'Division No. 15',\n",
       "   'types': ['administrative_area_level_2', 'political']},\n",
       "  {'long_name': 'Alberta',\n",
       "   'short_name': 'AB',\n",
       "   'types': ['administrative_area_level_1', 'political']},\n",
       "  {'long_name': 'Canada',\n",
       "   'short_name': 'CA',\n",
       "   'types': ['country', 'political']},\n",
       "  {'long_name': 'T0L',\n",
       "   'short_name': 'T0L',\n",
       "   'types': ['postal_code', 'postal_code_prefix']}],\n",
       " 'formatted_address': 'Ken Richie Way, Canmore, AB T0L, Canada',\n",
       " 'geometry': {'bounds': {'northeast': {'lat': 51.0754026, 'lng': -115.4013776},\n",
       "   'southwest': {'lat': 51.0748264, 'lng': -115.4022129}},\n",
       "  'location': {'lat': 51.0751365, 'lng': -115.4018363},\n",
       "  'location_type': 'GEOMETRIC_CENTER',\n",
       "  'viewport': {'northeast': {'lat': 51.07646348029149,\n",
       "    'lng': -115.4004462697085},\n",
       "   'southwest': {'lat': 51.0737655197085, 'lng': -115.4031442302915}}},\n",
       " 'place_id': 'ChIJcXfK3mzGcFMR62nw4Z2kTic',\n",
       " 'types': ['route']}"
      ]
     },
     "execution_count": 14,
     "metadata": {},
     "output_type": "execute_result"
    }
   ],
   "source": [
    "#quick look\n",
    "df['geocode_data'][0]"
   ]
  },
  {
   "cell_type": "markdown",
   "metadata": {},
   "source": [
    "Define functions to parse out country name and city name!!"
   ]
  },
  {
   "cell_type": "code",
   "execution_count": 15,
   "metadata": {
    "collapsed": true
   },
   "outputs": [],
   "source": [
    "def parse_country(geocode_data):\n",
    "    if (not geocode_data is None) and ('address_components' in geocode_data):\n",
    "        for component in geocode_data['address_components']:\n",
    "            if 'country' in component['types']:\n",
    "                return component['long_name']\n",
    "    return None\n",
    " \n",
    "def parse_city(geocode_data):\n",
    "    if (not geocode_data is None) and ('address_components' in geocode_data):\n",
    "        for component in geocode_data['address_components']:\n",
    "            if 'locality' in component['types']:\n",
    "                return component['long_name']\n",
    "            elif 'postal_town' in component['types']:\n",
    "                return component['long_name']\n",
    "            elif 'administrative_area_level_2' in component['types']:\n",
    "                return component['long_name']\n",
    "            elif 'administrative_area_level_1' in component['types']:\n",
    "                return component['long_name']\n",
    "    return None"
   ]
  },
  {
   "cell_type": "code",
   "execution_count": 16,
   "metadata": {
    "collapsed": true
   },
   "outputs": [],
   "source": [
    "df['city'] = df['geocode_data'].map(parse_city)\n",
    "df['country'] = df['geocode_data'].map(parse_country)"
   ]
  },
  {
   "cell_type": "code",
   "execution_count": 17,
   "metadata": {
    "collapsed": false
   },
   "outputs": [
    {
     "data": {
      "text/html": [
       "<div>\n",
       "<table border=\"1\" class=\"dataframe\">\n",
       "  <thead>\n",
       "    <tr style=\"text-align: right;\">\n",
       "      <th></th>\n",
       "      <th>Unnamed: 0</th>\n",
       "      <th>geometry.coordinates</th>\n",
       "      <th>geometry.type</th>\n",
       "      <th>id</th>\n",
       "      <th>properties.abandoned</th>\n",
       "      <th>properties.addr:city</th>\n",
       "      <th>properties.addr:country</th>\n",
       "      <th>properties.addr:postcode</th>\n",
       "      <th>properties.addr:state</th>\n",
       "      <th>properties.addr:street</th>\n",
       "      <th>...</th>\n",
       "      <th>properties.tourism</th>\n",
       "      <th>properties.units</th>\n",
       "      <th>properties.waterway</th>\n",
       "      <th>properties.website</th>\n",
       "      <th>properties.wikidata</th>\n",
       "      <th>properties.wikipedia</th>\n",
       "      <th>type</th>\n",
       "      <th>geocode_data</th>\n",
       "      <th>city</th>\n",
       "      <th>country</th>\n",
       "    </tr>\n",
       "  </thead>\n",
       "  <tbody>\n",
       "    <tr>\n",
       "      <th>0</th>\n",
       "      <td>0</td>\n",
       "      <td>51.0745439, -115.4022874</td>\n",
       "      <td>Point</td>\n",
       "      <td>30445652</td>\n",
       "      <td>NaN</td>\n",
       "      <td>NaN</td>\n",
       "      <td>NaN</td>\n",
       "      <td>NaN</td>\n",
       "      <td>NaN</td>\n",
       "      <td>NaN</td>\n",
       "      <td>...</td>\n",
       "      <td>NaN</td>\n",
       "      <td>NaN</td>\n",
       "      <td>NaN</td>\n",
       "      <td>NaN</td>\n",
       "      <td>NaN</td>\n",
       "      <td>NaN</td>\n",
       "      <td>Feature</td>\n",
       "      <td>{'formatted_address': 'Ken Richie Way, Canmore...</td>\n",
       "      <td>Canmore</td>\n",
       "      <td>Canada</td>\n",
       "    </tr>\n",
       "    <tr>\n",
       "      <th>1</th>\n",
       "      <td>1</td>\n",
       "      <td>43.2439679, -116.3783661</td>\n",
       "      <td>Point</td>\n",
       "      <td>126161573</td>\n",
       "      <td>NaN</td>\n",
       "      <td>NaN</td>\n",
       "      <td>NaN</td>\n",
       "      <td>NaN</td>\n",
       "      <td>NaN</td>\n",
       "      <td>NaN</td>\n",
       "      <td>...</td>\n",
       "      <td>NaN</td>\n",
       "      <td>NaN</td>\n",
       "      <td>NaN</td>\n",
       "      <td>NaN</td>\n",
       "      <td>NaN</td>\n",
       "      <td>NaN</td>\n",
       "      <td>Feature</td>\n",
       "      <td>{'formatted_address': 'Swan Falls Dam, Murphy,...</td>\n",
       "      <td>Murphy</td>\n",
       "      <td>United States</td>\n",
       "    </tr>\n",
       "    <tr>\n",
       "      <th>2</th>\n",
       "      <td>2</td>\n",
       "      <td>48.1056465, -1.9880204</td>\n",
       "      <td>Point</td>\n",
       "      <td>263782394</td>\n",
       "      <td>NaN</td>\n",
       "      <td>NaN</td>\n",
       "      <td>NaN</td>\n",
       "      <td>NaN</td>\n",
       "      <td>NaN</td>\n",
       "      <td>NaN</td>\n",
       "      <td>...</td>\n",
       "      <td>NaN</td>\n",
       "      <td>NaN</td>\n",
       "      <td>NaN</td>\n",
       "      <td>NaN</td>\n",
       "      <td>NaN</td>\n",
       "      <td>NaN</td>\n",
       "      <td>Feature</td>\n",
       "      <td>{'formatted_address': 'Le Ricotay, 35750 Iffen...</td>\n",
       "      <td>Iffendic</td>\n",
       "      <td>France</td>\n",
       "    </tr>\n",
       "    <tr>\n",
       "      <th>3</th>\n",
       "      <td>3</td>\n",
       "      <td>49.6197688, 10.8350521</td>\n",
       "      <td>Point</td>\n",
       "      <td>318895153</td>\n",
       "      <td>NaN</td>\n",
       "      <td>NaN</td>\n",
       "      <td>NaN</td>\n",
       "      <td>NaN</td>\n",
       "      <td>NaN</td>\n",
       "      <td>NaN</td>\n",
       "      <td>...</td>\n",
       "      <td>NaN</td>\n",
       "      <td>NaN</td>\n",
       "      <td>NaN</td>\n",
       "      <td>NaN</td>\n",
       "      <td>NaN</td>\n",
       "      <td>NaN</td>\n",
       "      <td>Feature</td>\n",
       "      <td>{'formatted_address': 'Reuther Weg 10, 91085 W...</td>\n",
       "      <td>Weisendorf</td>\n",
       "      <td>Germany</td>\n",
       "    </tr>\n",
       "    <tr>\n",
       "      <th>4</th>\n",
       "      <td>4</td>\n",
       "      <td>43.2669091, -122.4098458</td>\n",
       "      <td>Point</td>\n",
       "      <td>365796528</td>\n",
       "      <td>NaN</td>\n",
       "      <td>NaN</td>\n",
       "      <td>NaN</td>\n",
       "      <td>NaN</td>\n",
       "      <td>OR</td>\n",
       "      <td>NaN</td>\n",
       "      <td>...</td>\n",
       "      <td>NaN</td>\n",
       "      <td>NaN</td>\n",
       "      <td>NaN</td>\n",
       "      <td>NaN</td>\n",
       "      <td>NaN</td>\n",
       "      <td>NaN</td>\n",
       "      <td>Feature</td>\n",
       "      <td>{'formatted_address': 'Clearwater Plant Rd, Id...</td>\n",
       "      <td>Douglas County</td>\n",
       "      <td>United States</td>\n",
       "    </tr>\n",
       "  </tbody>\n",
       "</table>\n",
       "<p>5 rows × 78 columns</p>\n",
       "</div>"
      ],
      "text/plain": [
       "   Unnamed: 0      geometry.coordinates geometry.type         id  \\\n",
       "0           0  51.0745439, -115.4022874         Point   30445652   \n",
       "1           1  43.2439679, -116.3783661         Point  126161573   \n",
       "2           2    48.1056465, -1.9880204         Point  263782394   \n",
       "3           3    49.6197688, 10.8350521         Point  318895153   \n",
       "4           4  43.2669091, -122.4098458         Point  365796528   \n",
       "\n",
       "  properties.abandoned properties.addr:city properties.addr:country  \\\n",
       "0                  NaN                  NaN                     NaN   \n",
       "1                  NaN                  NaN                     NaN   \n",
       "2                  NaN                  NaN                     NaN   \n",
       "3                  NaN                  NaN                     NaN   \n",
       "4                  NaN                  NaN                     NaN   \n",
       "\n",
       "   properties.addr:postcode properties.addr:state properties.addr:street  \\\n",
       "0                       NaN                   NaN                    NaN   \n",
       "1                       NaN                   NaN                    NaN   \n",
       "2                       NaN                   NaN                    NaN   \n",
       "3                       NaN                   NaN                    NaN   \n",
       "4                       NaN                    OR                    NaN   \n",
       "\n",
       "       ...       properties.tourism properties.units properties.waterway  \\\n",
       "0      ...                      NaN              NaN                 NaN   \n",
       "1      ...                      NaN              NaN                 NaN   \n",
       "2      ...                      NaN              NaN                 NaN   \n",
       "3      ...                      NaN              NaN                 NaN   \n",
       "4      ...                      NaN              NaN                 NaN   \n",
       "\n",
       "  properties.website properties.wikidata  properties.wikipedia     type  \\\n",
       "0                NaN                 NaN                   NaN  Feature   \n",
       "1                NaN                 NaN                   NaN  Feature   \n",
       "2                NaN                 NaN                   NaN  Feature   \n",
       "3                NaN                 NaN                   NaN  Feature   \n",
       "4                NaN                 NaN                   NaN  Feature   \n",
       "\n",
       "                                        geocode_data            city  \\\n",
       "0  {'formatted_address': 'Ken Richie Way, Canmore...         Canmore   \n",
       "1  {'formatted_address': 'Swan Falls Dam, Murphy,...          Murphy   \n",
       "2  {'formatted_address': 'Le Ricotay, 35750 Iffen...        Iffendic   \n",
       "3  {'formatted_address': 'Reuther Weg 10, 91085 W...      Weisendorf   \n",
       "4  {'formatted_address': 'Clearwater Plant Rd, Id...  Douglas County   \n",
       "\n",
       "         country  \n",
       "0         Canada  \n",
       "1  United States  \n",
       "2         France  \n",
       "3        Germany  \n",
       "4  United States  \n",
       "\n",
       "[5 rows x 78 columns]"
      ]
     },
     "execution_count": 17,
     "metadata": {},
     "output_type": "execute_result"
    }
   ],
   "source": [
    "#quick check to makes sure it worked\n",
    "df.head()"
   ]
  },
  {
   "cell_type": "markdown",
   "metadata": {},
   "source": [
    "50 different countries are listed in the nodes df"
   ]
  },
  {
   "cell_type": "code",
   "execution_count": 21,
   "metadata": {
    "collapsed": false
   },
   "outputs": [
    {
     "name": "stdout",
     "output_type": "stream",
     "text": [
      "50\n"
     ]
    },
    {
     "data": {
      "text/plain": [
       "array(['Canada', 'United States', 'France', 'Germany', 'Sierra Leone',\n",
       "       'Austria', 'Iceland', 'Brazil', 'Morocco', 'Norway', 'Spain',\n",
       "       'Australia', 'Taiwan', 'Mexico', 'China', 'Ecuador', 'North Korea',\n",
       "       'South Africa', 'Greece', 'Ethiopia', 'United Kingdom', 'Nepal',\n",
       "       'Poland', None, 'Japan', 'Libya', 'Togo', 'Vietnam', 'Switzerland',\n",
       "       'Zambia', 'Haiti', 'Sri Lanka', 'Portugal', 'Uganda', 'Denmark',\n",
       "       'Kuwait', 'Italy', 'Czech Republic', 'Ukraine', 'Syria',\n",
       "       'Indonesia', 'Peru', 'Tanzania', 'Iran', 'Kenya', 'Philippines',\n",
       "       'Myanmar (Burma)', 'Finland', 'India', 'Fiji'], dtype=object)"
      ]
     },
     "execution_count": 21,
     "metadata": {},
     "output_type": "execute_result"
    }
   ],
   "source": [
    "print(len(df.country.unique()))\n",
    "df.country.unique()"
   ]
  },
  {
   "cell_type": "markdown",
   "metadata": {},
   "source": [
    "Do the same with the ways df.  Note that I quickly edited the csv file to only get the first pair of coordinates.  I'm sure there is a pythonic way to do this as well."
   ]
  },
  {
   "cell_type": "code",
   "execution_count": 22,
   "metadata": {
    "collapsed": false
   },
   "outputs": [],
   "source": [
    "df2 = pd.read_csv(\"osm_ways_flip_2.csv\", encoding = 'iso-8859-1')"
   ]
  },
  {
   "cell_type": "code",
   "execution_count": 23,
   "metadata": {
    "collapsed": false
   },
   "outputs": [
    {
     "data": {
      "text/html": [
       "<div>\n",
       "<table border=\"1\" class=\"dataframe\">\n",
       "  <thead>\n",
       "    <tr style=\"text-align: right;\">\n",
       "      <th></th>\n",
       "      <th>id</th>\n",
       "      <th>Unnamed: 1</th>\n",
       "      <th>lat</th>\n",
       "      <th>long</th>\n",
       "      <th>combined</th>\n",
       "    </tr>\n",
       "  </thead>\n",
       "  <tbody>\n",
       "    <tr>\n",
       "      <th>0</th>\n",
       "      <td>4670340</td>\n",
       "      <td>0</td>\n",
       "      <td>51.636868</td>\n",
       "      <td>7.624084</td>\n",
       "      <td>51.6368677,7.624084</td>\n",
       "    </tr>\n",
       "    <tr>\n",
       "      <th>1</th>\n",
       "      <td>4677631</td>\n",
       "      <td>1</td>\n",
       "      <td>52.538009</td>\n",
       "      <td>13.349289</td>\n",
       "      <td>52.5380095,13.3492891</td>\n",
       "    </tr>\n",
       "    <tr>\n",
       "      <th>2</th>\n",
       "      <td>4755466</td>\n",
       "      <td>2</td>\n",
       "      <td>52.482635</td>\n",
       "      <td>13.307154</td>\n",
       "      <td>52.4826347,13.3071541</td>\n",
       "    </tr>\n",
       "    <tr>\n",
       "      <th>3</th>\n",
       "      <td>4763495</td>\n",
       "      <td>3</td>\n",
       "      <td>52.523081</td>\n",
       "      <td>13.313312</td>\n",
       "      <td>52.523081,13.3133122</td>\n",
       "    </tr>\n",
       "    <tr>\n",
       "      <th>4</th>\n",
       "      <td>4800321</td>\n",
       "      <td>4</td>\n",
       "      <td>54.633256</td>\n",
       "      <td>-1.183778</td>\n",
       "      <td>54.6332559,-1.183778</td>\n",
       "    </tr>\n",
       "  </tbody>\n",
       "</table>\n",
       "</div>"
      ],
      "text/plain": [
       "        id  Unnamed: 1        lat       long               combined\n",
       "0  4670340           0  51.636868   7.624084    51.6368677,7.624084\n",
       "1  4677631           1  52.538009  13.349289  52.5380095,13.3492891\n",
       "2  4755466           2  52.482635  13.307154  52.4826347,13.3071541\n",
       "3  4763495           3  52.523081  13.313312   52.523081,13.3133122\n",
       "4  4800321           4  54.633256  -1.183778   54.6332559,-1.183778"
      ]
     },
     "execution_count": 23,
     "metadata": {},
     "output_type": "execute_result"
    }
   ],
   "source": [
    "df2.head()"
   ]
  },
  {
   "cell_type": "code",
   "execution_count": 24,
   "metadata": {
    "collapsed": true
   },
   "outputs": [],
   "source": [
    "df2['geocode_data'] = ''\n",
    "df2['city'] = ''\n",
    "df2['country'] = ''"
   ]
  },
  {
   "cell_type": "markdown",
   "metadata": {},
   "source": [
    "CAUTION: this takes a long time to run"
   ]
  },
  {
   "cell_type": "code",
   "execution_count": 25,
   "metadata": {
    "collapsed": true
   },
   "outputs": [],
   "source": [
    "df2['geocode_data'] = df2['combined'].map(reverse_geocode)"
   ]
  },
  {
   "cell_type": "code",
   "execution_count": 28,
   "metadata": {
    "collapsed": false
   },
   "outputs": [
    {
     "data": {
      "text/html": [
       "<div>\n",
       "<table border=\"1\" class=\"dataframe\">\n",
       "  <thead>\n",
       "    <tr style=\"text-align: right;\">\n",
       "      <th></th>\n",
       "      <th>id</th>\n",
       "      <th>Unnamed: 1</th>\n",
       "      <th>lat</th>\n",
       "      <th>long</th>\n",
       "      <th>combined</th>\n",
       "      <th>geocode_data</th>\n",
       "      <th>city</th>\n",
       "      <th>country</th>\n",
       "    </tr>\n",
       "  </thead>\n",
       "  <tbody>\n",
       "    <tr>\n",
       "      <th>0</th>\n",
       "      <td>4670340</td>\n",
       "      <td>0</td>\n",
       "      <td>51.636868</td>\n",
       "      <td>7.624084</td>\n",
       "      <td>51.6368677,7.624084</td>\n",
       "      <td>{'formatted_address': 'Unnamed Road, 59192 Ber...</td>\n",
       "      <td>Bergkamen</td>\n",
       "      <td>Germany</td>\n",
       "    </tr>\n",
       "    <tr>\n",
       "      <th>1</th>\n",
       "      <td>4677631</td>\n",
       "      <td>1</td>\n",
       "      <td>52.538009</td>\n",
       "      <td>13.349289</td>\n",
       "      <td>52.5380095,13.3492891</td>\n",
       "      <td>{'formatted_address': 'Mitte, Friedrich-Krause...</td>\n",
       "      <td>Berlin</td>\n",
       "      <td>Germany</td>\n",
       "    </tr>\n",
       "    <tr>\n",
       "      <th>2</th>\n",
       "      <td>4755466</td>\n",
       "      <td>2</td>\n",
       "      <td>52.482635</td>\n",
       "      <td>13.307154</td>\n",
       "      <td>52.4826347,13.3071541</td>\n",
       "      <td>{'formatted_address': 'Bezirk Charlottenburg-W...</td>\n",
       "      <td>Berlin</td>\n",
       "      <td>Germany</td>\n",
       "    </tr>\n",
       "    <tr>\n",
       "      <th>3</th>\n",
       "      <td>4763495</td>\n",
       "      <td>3</td>\n",
       "      <td>52.523081</td>\n",
       "      <td>13.313312</td>\n",
       "      <td>52.523081,13.3133122</td>\n",
       "      <td>{'formatted_address': 'Bezirk Charlottenburg-W...</td>\n",
       "      <td>Berlin</td>\n",
       "      <td>Germany</td>\n",
       "    </tr>\n",
       "    <tr>\n",
       "      <th>4</th>\n",
       "      <td>4800321</td>\n",
       "      <td>4</td>\n",
       "      <td>54.633256</td>\n",
       "      <td>-1.183778</td>\n",
       "      <td>54.6332559,-1.183778</td>\n",
       "      <td>{'formatted_address': 'Unnamed Road, Hartlepoo...</td>\n",
       "      <td>Hartlepool</td>\n",
       "      <td>United Kingdom</td>\n",
       "    </tr>\n",
       "  </tbody>\n",
       "</table>\n",
       "</div>"
      ],
      "text/plain": [
       "        id  Unnamed: 1        lat       long               combined  \\\n",
       "0  4670340           0  51.636868   7.624084    51.6368677,7.624084   \n",
       "1  4677631           1  52.538009  13.349289  52.5380095,13.3492891   \n",
       "2  4755466           2  52.482635  13.307154  52.4826347,13.3071541   \n",
       "3  4763495           3  52.523081  13.313312   52.523081,13.3133122   \n",
       "4  4800321           4  54.633256  -1.183778   54.6332559,-1.183778   \n",
       "\n",
       "                                        geocode_data        city  \\\n",
       "0  {'formatted_address': 'Unnamed Road, 59192 Ber...   Bergkamen   \n",
       "1  {'formatted_address': 'Mitte, Friedrich-Krause...      Berlin   \n",
       "2  {'formatted_address': 'Bezirk Charlottenburg-W...      Berlin   \n",
       "3  {'formatted_address': 'Bezirk Charlottenburg-W...      Berlin   \n",
       "4  {'formatted_address': 'Unnamed Road, Hartlepoo...  Hartlepool   \n",
       "\n",
       "          country  \n",
       "0         Germany  \n",
       "1         Germany  \n",
       "2         Germany  \n",
       "3         Germany  \n",
       "4  United Kingdom  "
      ]
     },
     "execution_count": 28,
     "metadata": {},
     "output_type": "execute_result"
    }
   ],
   "source": [
    "df2.head()"
   ]
  },
  {
   "cell_type": "code",
   "execution_count": 27,
   "metadata": {
    "collapsed": true
   },
   "outputs": [],
   "source": [
    "df2['city'] = df2['geocode_data'].map(parse_city)\n",
    "df2['country'] = df2['geocode_data'].map(parse_country)"
   ]
  },
  {
   "cell_type": "markdown",
   "metadata": {},
   "source": [
    "117 countries in the ways df"
   ]
  },
  {
   "cell_type": "code",
   "execution_count": 34,
   "metadata": {
    "collapsed": false,
    "scrolled": true
   },
   "outputs": [
    {
     "name": "stdout",
     "output_type": "stream",
     "text": [
      "117\n"
     ]
    },
    {
     "data": {
      "text/plain": [
       "array(['Germany', 'United Kingdom', 'France', 'Sweden', 'Netherlands',\n",
       "       'Poland', 'Belgium', 'Slovakia', 'Switzerland', 'Spain', 'Greece',\n",
       "       'Malta', 'Italy', 'Austria', 'Canada', 'Finland', 'Russia',\n",
       "       'Ukraine', 'Malaysia', 'Australia', 'United States', 'Israel',\n",
       "       'Denmark', 'Belarus', 'Lebanon', 'Cyprus', 'Czech Republic',\n",
       "       'Tajikistan', 'India', 'Iran', 'Egypt', 'China', 'Chile',\n",
       "       'Burkina Faso', 'Panama', 'Dominican Republic', 'Brazil', 'Libya',\n",
       "       'Croatia', 'Reunion', 'Romania', 'Saudi Arabia', 'Nicaragua',\n",
       "       'Zambia', 'Mexico', None, 'Algeria', 'Kazakhstan',\n",
       "       'United Arab Emirates', 'Haiti', 'Cuba', 'Turkey',\n",
       "       'Democratic Republic of the Congo', 'Iceland', 'Iraq', 'Slovenia',\n",
       "       'South Africa', \"Côte d'Ivoire\", 'Turkmenistan', 'Indonesia',\n",
       "       'Tunisia', 'New Zealand', 'Sri Lanka', 'Uzbekistan', 'Japan',\n",
       "       'Philippines', 'Hungary', 'Nepal', 'Portugal', 'Oman', 'Laos',\n",
       "       'Namibia', 'Tanzania', 'Costa Rica', 'Bosnia and Herzegovina',\n",
       "       'Jordan', 'Syria', 'Morocco', 'Peru', 'Nauru', 'Uruguay',\n",
       "       'Bulgaria', 'Argentina', 'Bangladesh', 'Taiwan', 'Hong Kong',\n",
       "       'Luxembourg', 'Estonia', 'Mauritius', 'Ghana', 'Uganda', 'Ecuador',\n",
       "       'Thailand', 'The Bahamas', 'Guinea', 'Botswana', 'Kenya', 'Serbia',\n",
       "       'Macedonia (FYROM)', 'Vietnam', 'Kuwait', 'Antarctica', 'Qatar',\n",
       "       'Guatemala', 'South Korea', 'North Korea', 'Cook Islands',\n",
       "       'Bolivia', 'Ireland', 'Mongolia', 'Ethiopia', 'Nigeria', 'Sudan',\n",
       "       'Norway', 'Myanmar (Burma)', 'Togo', 'Pakistan'], dtype=object)"
      ]
     },
     "execution_count": 34,
     "metadata": {},
     "output_type": "execute_result"
    }
   ],
   "source": [
    "print(len(df2['country'].unique()))\n",
    "df2['country'].unique()"
   ]
  },
  {
   "cell_type": "markdown",
   "metadata": {},
   "source": [
    "Save to csv so you don't have to run the reverse geolocator again (it's costly)"
   ]
  },
  {
   "cell_type": "code",
   "execution_count": 35,
   "metadata": {
    "collapsed": true
   },
   "outputs": [],
   "source": [
    "df.to_csv('get_country_nodes.csv')\n",
    "df2.to_csv('get_country_ways.csv')"
   ]
  }
 ],
 "metadata": {
  "kernelspec": {
   "display_name": "Python 3",
   "language": "python",
   "name": "python3"
  },
  "language_info": {
   "codemirror_mode": {
    "name": "ipython",
    "version": 3
   },
   "file_extension": ".py",
   "mimetype": "text/x-python",
   "name": "python",
   "nbconvert_exporter": "python",
   "pygments_lexer": "ipython3",
   "version": "3.5.1"
  }
 },
 "nbformat": 4,
 "nbformat_minor": 0
}
