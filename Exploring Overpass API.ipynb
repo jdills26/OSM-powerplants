{
 "cells": [
  {
   "cell_type": "markdown",
   "metadata": {},
   "source": [
    "This notebook is scratchwork to explore ways to query the API"
   ]
  },
  {
   "cell_type": "code",
   "execution_count": 10,
   "metadata": {
    "collapsed": false
   },
   "outputs": [],
   "source": [
    "import overpass\n",
    "import pandas as pd"
   ]
  },
  {
   "cell_type": "code",
   "execution_count": 12,
   "metadata": {
    "collapsed": false
   },
   "outputs": [
    {
     "name": "stdout",
     "output_type": "stream",
     "text": [
      "{\"features\": [{\"geometry\": {\"coordinates\": [30.2032105, 51.2861627], \"type\": \"Point\"}, \"id\": 3676666617, \"properties\": {\"name\": \"Chernobyl power plant\", \"plant:source\": \"nuclear\", \"power\": \"plant\"}, \"type\": \"Feature\"}], \"type\": \"FeatureCollection\"}\n",
      "Wall time: 8.22 s\n"
     ]
    }
   ],
   "source": [
    "%%time\n",
    "#using api in search mode with name   \n",
    "api = overpass.API()\n",
    "x = api.Get('node[\"name\"=\"Chernobyl power plant\"]')\n",
    "print(x)"
   ]
  },
  {
   "cell_type": "code",
   "execution_count": 13,
   "metadata": {
    "collapsed": false
   },
   "outputs": [
    {
     "name": "stdout",
     "output_type": "stream",
     "text": [
      "{\"features\": [{\"geometry\": {\"coordinates\": [-116.3783661, 43.2439679], \"type\": \"Point\"}, \"id\": 126161573, \"properties\": {\"generator:method\": \"water-storage\", \"power\": \"plant\"}, \"type\": \"Feature\"}], \"type\": \"FeatureCollection\"}\n",
      "Wall time: 10.7 s\n"
     ]
    }
   ],
   "source": [
    "%%time\n",
    "#using api in search mode with node number\n",
    "api = overpass.API()\n",
    "x = api.Get('node(126161573)')\n",
    "print(x)"
   ]
  },
  {
   "cell_type": "code",
   "execution_count": 3,
   "metadata": {
    "collapsed": false,
    "scrolled": true
   },
   "outputs": [
    {
     "name": "stdout",
     "output_type": "stream",
     "text": [
      "Wall time: 12.5 s\n"
     ]
    }
   ],
   "source": [
    "%%time\n",
    "#use api to get everything with power key as node for a certain bounding box\n",
    "#probably not that useful for us\n",
    "api = overpass.API(timeout=900)\n",
    "x = api.Get('node[\"power\"](50.6,7.0,50.8,7.3);out skel;')\n",
    "#not going to print because takes up the whole screen"
   ]
  },
  {
   "cell_type": "markdown",
   "metadata": {},
   "source": [
    "I also want to get power=generator tags"
   ]
  },
  {
   "cell_type": "code",
   "execution_count": 6,
   "metadata": {
    "collapsed": false,
    "scrolled": true
   },
   "outputs": [
    {
     "name": "stdout",
     "output_type": "stream",
     "text": [
      "{\"features\": [{\"geometry\": {\"coordinates\": [7.2282315, 50.6982039], \"type\": \"Point\"}, \"id\": 1037364652, \"properties\": {}, \"type\": \"Feature\"}, {\"geometry\": {\"coordinates\": [7.2103901, 50.793854], \"type\": \"Point\"}, \"id\": 1785115500, \"properties\": {}, \"type\": \"Feature\"}, {\"geometry\": {\"coordinates\": [7.0156318, 50.6229011], \"type\": \"Point\"}, \"id\": 3843844173, \"properties\": {}, \"type\": \"Feature\"}, {\"geometry\": {\"coordinates\": [7.2282315, 50.6982039], \"type\": \"Point\"}, \"id\": 1037364652, \"properties\": {\"generator:source\": \"gas\", \"power\": \"generator\"}, \"type\": \"Feature\"}, {\"geometry\": {\"coordinates\": [7.2103901, 50.793854], \"type\": \"Point\"}, \"id\": 1785115500, \"properties\": {\"generator:method\": \"photovoltaic\", \"generator:output:electricity\": \"yes\", \"generator:source\": \"solar\", \"power\": \"generator\"}, \"type\": \"Feature\"}, {\"geometry\": {\"coordinates\": [7.0156318, 50.6229011], \"type\": \"Point\"}, \"id\": 3843844173, \"properties\": {\"generator:output:electricity\": \"yes\", \"generator:output:steam\": \"yes\", \"generator:source\": \"gas\", \"power\": \"generator\"}, \"type\": \"Feature\"}], \"type\": \"FeatureCollection\"}\n",
      "Wall time: 24.6 s\n"
     ]
    }
   ],
   "source": [
    "%%time\n",
    "api = overpass.API(timeout=900)\n",
    "x = api.Get('node[\"power\"=\"generator\"](50.6,7.0,50.8,7.3);out skel;')\n",
    "print(x)"
   ]
  },
  {
   "cell_type": "code",
   "execution_count": 65,
   "metadata": {
    "collapsed": false,
    "scrolled": true
   },
   "outputs": [
    {
     "name": "stdout",
     "output_type": "stream",
     "text": [
      "{\"features\": [{\"geometry\": {\"coordinates\": [7.2282315, 50.6982039], \"type\": \"Point\"}, \"id\": 1037364652, \"properties\": {\"generator:source\": \"gas\", \"power\": \"generator\"}, \"type\": \"Feature\"}, {\"geometry\": {\"coordinates\": [7.2103901, 50.793854], \"type\": \"Point\"}, \"id\": 1785115500, \"properties\": {\"generator:method\": \"photovoltaic\", \"generator:output:electricity\": \"yes\", \"generator:source\": \"solar\", \"power\": \"generator\"}, \"type\": \"Feature\"}, {\"geometry\": {\"coordinates\": [7.0156318, 50.6229011], \"type\": \"Point\"}, \"id\": 3843844173, \"properties\": {\"generator:output:electricity\": \"yes\", \"generator:output:steam\": \"yes\", \"generator:source\": \"gas\", \"power\": \"generator\"}, \"type\": \"Feature\"}, {\"geometry\": {\"coordinates\": [7.2282315, 50.6982039], \"type\": \"Point\"}, \"id\": 1037364652, \"properties\": {\"generator:source\": \"gas\", \"power\": \"generator\"}, \"type\": \"Feature\"}, {\"geometry\": {\"coordinates\": [7.2103901, 50.793854], \"type\": \"Point\"}, \"id\": 1785115500, \"properties\": {\"generator:method\": \"photovoltaic\", \"generator:output:electricity\": \"yes\", \"generator:source\": \"solar\", \"power\": \"generator\"}, \"type\": \"Feature\"}, {\"geometry\": {\"coordinates\": [7.0156318, 50.6229011], \"type\": \"Point\"}, \"id\": 3843844173, \"properties\": {\"generator:output:electricity\": \"yes\", \"generator:output:steam\": \"yes\", \"generator:source\": \"gas\", \"power\": \"generator\"}, \"type\": \"Feature\"}], \"type\": \"FeatureCollection\"}\n"
     ]
    }
   ],
   "source": [
    "#you can change the out parameter ex. out skel or out center, out center give center coordinates even if it is a linestring\n",
    "api = overpass.API(timeout=900)\n",
    "x = api.Get('node[\"power\"=\"generator\"](50.6,7.0,50.8,7.3);out center;')\n",
    "print(x)"
   ]
  },
  {
   "cell_type": "code",
   "execution_count": 7,
   "metadata": {
    "collapsed": false
   },
   "outputs": [
    {
     "name": "stdout",
     "output_type": "stream",
     "text": [
      "{\"features\": [], \"type\": \"FeatureCollection\"}\n"
     ]
    }
   ],
   "source": [
    "#try using bounding box for Costa Rica\n",
    "#doesn't work maybe bounding box at country level is too big? either times out or returns empty dictionary...\n",
    "api = overpass.API(timeout=900)\n",
    "x = api.Get('way[\"power\"=\"generator\"](-85.9,8.0, -82.5, 11.2);out skel;')\n",
    "print(x)"
   ]
  },
  {
   "cell_type": "code",
   "execution_count": 73,
   "metadata": {
    "collapsed": true
   },
   "outputs": [],
   "source": [
    "#doesn't work but want to figure out how to use 'is_in' and areas \n",
    "#x=api.Get('node[\"power\"=\"plant\"]; is_in; area[name=\"Brazil\"][admin_level=2][boundary=administrative]; out center;')"
   ]
  },
  {
   "cell_type": "code",
   "execution_count": 85,
   "metadata": {
    "collapsed": false
   },
   "outputs": [
    {
     "name": "stdout",
     "output_type": "stream",
     "text": [
      "{\"features\": [{\"geometry\": {\"coordinates\": [7.2282315, 50.6982039], \"type\": \"Point\"}, \"id\": 1037364652, \"properties\": {\"generator:source\": \"gas\", \"power\": \"generator\"}, \"type\": \"Feature\"}, {\"geometry\": {\"coordinates\": [7.2103901, 50.793854], \"type\": \"Point\"}, \"id\": 1785115500, \"properties\": {\"generator:method\": \"photovoltaic\", \"generator:output:electricity\": \"yes\", \"generator:source\": \"solar\", \"power\": \"generator\"}, \"type\": \"Feature\"}, {\"geometry\": {\"coordinates\": [7.0156318, 50.6229011], \"type\": \"Point\"}, \"id\": 3843844173, \"properties\": {\"generator:output:electricity\": \"yes\", \"generator:output:steam\": \"yes\", \"generator:source\": \"gas\", \"power\": \"generator\"}, \"type\": \"Feature\"}, {\"geometry\": {\"coordinates\": [7.2282315, 50.6982039], \"type\": \"Point\"}, \"id\": 1037364652, \"properties\": {\"generator:source\": \"gas\", \"power\": \"generator\"}, \"type\": \"Feature\"}, {\"geometry\": {\"coordinates\": [7.2103901, 50.793854], \"type\": \"Point\"}, \"id\": 1785115500, \"properties\": {\"generator:method\": \"photovoltaic\", \"generator:output:electricity\": \"yes\", \"generator:source\": \"solar\", \"power\": \"generator\"}, \"type\": \"Feature\"}, {\"geometry\": {\"coordinates\": [7.0156318, 50.6229011], \"type\": \"Point\"}, \"id\": 3843844173, \"properties\": {\"generator:output:electricity\": \"yes\", \"generator:output:steam\": \"yes\", \"generator:source\": \"gas\", \"power\": \"generator\"}, \"type\": \"Feature\"}], \"type\": \"FeatureCollection\"}\n"
     ]
    }
   ],
   "source": [
    "#another example that works using bounding box for city of Bonn, Germany\n",
    "x = api.Get(\n",
    "    'way[\"power\"=\"generator\"](50.6,7.0,50.8,7.3); node[\"power\"=\"generator\"](50.6,7.0,50.8,7.3); out center;')\n",
    "print(x)"
   ]
  },
  {
   "cell_type": "code",
   "execution_count": 64,
   "metadata": {
    "collapsed": false
   },
   "outputs": [
    {
     "name": "stdout",
     "output_type": "stream",
     "text": [
      "{\"features\": [{\"geometry\": {\"coordinates\": [[7.0696447, 50.7373346], [7.070324, 50.7369954], [7.0707069, 50.7373024], [7.070645, 50.7373333], [7.0706096, 50.737305], [7.0705543, 50.7373326], [7.0705251, 50.7373092], [7.0704645, 50.7373394], [7.0704324, 50.7373136], [7.0703764, 50.7373416], [7.0703445, 50.737316], [7.0702902, 50.7373431], [7.0702604, 50.7373192], [7.0702061, 50.7373463], [7.0701777, 50.7373235], [7.0701138, 50.7373554], [7.0700808, 50.737329], [7.0700265, 50.7373561], [7.0699945, 50.7373304], [7.0699406, 50.7373573], [7.0699099, 50.7373327], [7.0698519, 50.7373617], [7.0698207, 50.7373366], [7.0697651, 50.7373644], [7.0697325, 50.7373382], [7.0696812, 50.7373639], [7.0696447, 50.7373346]], \"type\": \"LineString\"}, \"id\": 26627569, \"properties\": {\"building\": \"yes\", \"generator:method\": \"photovoltaic\", \"generator:source\": \"solar\", \"note\": \"Dach mit Solar-Pannels\", \"power\": \"generator\"}, \"type\": \"Feature\"}, {\"geometry\": {\"coordinates\": [[7.0767194, 50.7341094], [7.0769758, 50.7339102], [7.077161, 50.7340047], [7.0775105, 50.7337311], [7.0776512, 50.7336218], [7.0776721, 50.7336056], [7.0781134, 50.733833], [7.0780954, 50.733847], [7.0780403, 50.7338898], [7.0781014, 50.7339213], [7.0780028, 50.7339979], [7.0779483, 50.7339697], [7.0775857, 50.7342515], [7.0776598, 50.7342898], [7.0774243, 50.7344728], [7.0773693, 50.7344444], [7.076833, 50.734168], [7.0767194, 50.7341094]], \"type\": \"LineString\"}, \"id\": 26627764, \"properties\": {\"building\": \"yes\", \"generator:source\": \"waste\", \"height\": \"32.5\", \"name\": \"SWB Verwertung M\\u00fcllverwertungsanlage\", \"operator\": \"Stadwerke Bonn Verwertung\", \"power\": \"generator\", \"url\": \"http://www.stadtwerke-bonn.de/fileadmin/bilder/MVABonn/WebdateiMVABroschuereFinal.pdf\"}, \"type\": \"Feature\"}, {\"geometry\": {\"coordinates\": [[7.0790262, 50.7337049], [7.079016, 50.7337135], [7.0789797, 50.7336962], [7.0789903, 50.7336873], [7.0787564, 50.7335758], [7.0787839, 50.7335528], [7.0787012, 50.7335134], [7.0788075, 50.733424], [7.0787763, 50.7334092], [7.0791032, 50.7331344], [7.0792885, 50.7332226], [7.0791814, 50.7333126], [7.079342, 50.7333891], [7.0793936, 50.7333457], [7.0795693, 50.7334294], [7.0792973, 50.733658], [7.0792496, 50.7336353], [7.079116, 50.7337477], [7.0790262, 50.7337049]], \"type\": \"LineString\"}, \"id\": 28536588, \"properties\": {\"building\": \"yes\", \"generator:source\": \"gas\", \"note\": \"Gasturbine\", \"operator\": \"SWB Energie und Wasser\", \"power\": \"generator\"}, \"type\": \"Feature\"}, {\"geometry\": {\"coordinates\": [[7.1196696, 50.7138044], [7.1200548, 50.7134826], [7.1201189, 50.7135115], [7.1206362, 50.7137618], [7.1205844, 50.7138053], [7.1198883, 50.7139116], [7.1197269, 50.7138356], [7.1196696, 50.7138044]], \"type\": \"LineString\"}, \"id\": 32968893, \"properties\": {\"barrier\": \"fence\", \"generator:method\": \"photovoltaic\", \"generator:output:electricity\": \"30 kW\", \"generator:source\": \"solar\", \"landuse\": \"commercial\", \"operator\": \"Westnetz GmbH\", \"power\": \"generator\"}, \"type\": \"Feature\"}, {\"geometry\": {\"coordinates\": [[7.1362981, 50.7495399], [7.136135, 50.7493411], [7.136343, 50.7493651], [7.1362981, 50.7495399]], \"type\": \"LineString\"}, \"id\": 40151791, \"properties\": {\"building\": \"yes\", \"name\": \"Heizkraftwerk\", \"power\": \"generator\"}, \"type\": \"Feature\"}, {\"geometry\": {\"coordinates\": [[7.1203187, 50.7103366], [7.1207236, 50.7105496], [7.1206477, 50.7106075], [7.1207509, 50.7106617], [7.1209508, 50.7105093], [7.1208303, 50.7104459], [7.1208991, 50.7103934], [7.1210475, 50.7104715], [7.1212759, 50.7102973], [7.1211141, 50.7102122], [7.1209401, 50.7103449], [7.1207496, 50.7102447], [7.1209111, 50.7101216], [7.1207275, 50.710025], [7.1203187, 50.7103366]], \"type\": \"LineString\"}, \"id\": 44335961, \"properties\": {\"addr:city\": \"Bonn\", \"addr:country\": \"DE\", \"building\": \"yes\", \"description\": \"Erzeugt Strom und Fernw\\u00e4rme\", \"operator\": \"Stadtwerke Bonn Energie und Wasser\", \"power\": \"generator\", \"source\": \"Yahoo!Sat\"}, \"type\": \"Feature\"}, {\"geometry\": {\"coordinates\": [[7.1004627, 50.7224358], [7.1004385, 50.722384], [7.1019606, 50.7221114], [7.1019875, 50.7221674], [7.1004627, 50.7224358]], \"type\": \"LineString\"}, \"id\": 47913189, \"properties\": {\"generator:method\": \"photovoltaic\", \"generator:output\": \"92 kW\", \"generator:source\": \"photovoltaic\", \"power\": \"generator\"}, \"type\": \"Feature\"}, {\"geometry\": {\"coordinates\": [[7.1468591, 50.6621654], [7.1469828, 50.662044], [7.146579, 50.6618779], [7.1464555, 50.6619991], [7.1465336, 50.6620314], [7.146523, 50.6620715], [7.1465302, 50.6620714], [7.146538, 50.6620735], [7.1465441, 50.6620774], [7.146547, 50.6620819], [7.1465979, 50.662058], [7.1468591, 50.6621654]], \"type\": \"LineString\"}, \"id\": 141009624, \"properties\": {\"addr:city\": \"Bonn\", \"addr:country\": \"DE\", \"addr:housenumber\": \"21\", \"addr:postcode\": \"53177\", \"addr:street\": \"Schwarzbirkenweg\", \"building\": \"yes\", \"generator:output:heat\": \"yes\", \"generator:source\": \"fossil\", \"name\": \"Heizwerk Heiderhof\", \"operator\": \"Stadtwerke Bonn\", \"power\": \"generator\", \"source\": \"HiRes aerial imagery\"}, \"type\": \"Feature\"}, {\"geometry\": {\"coordinates\": [[7.079885, 50.7331617], [7.0795693, 50.7334294], [7.0800162, 50.7336442], [7.0800729, 50.7335965], [7.0801391, 50.7336281], [7.0804012, 50.7334078], [7.079885, 50.7331617]], \"type\": \"LineString\"}, \"id\": 230447732, \"properties\": {\"building\": \"yes\", \"note\": \"Maschinenhaus\", \"power\": \"generator\"}, \"type\": \"Feature\"}, {\"geometry\": {\"coordinates\": [[7.124333, 50.7199239], [7.1247114, 50.7197925], [7.1244596, 50.7195018], [7.1240812, 50.7196332], [7.124333, 50.7199239]], \"type\": \"LineString\"}, \"id\": 242159350, \"properties\": {\"generator:source\": \"solar\", \"note\": \"Erzeugt Strom oder W\\u00e4rme?\", \"power\": \"generator\"}, \"type\": \"Feature\"}, {\"geometry\": {\"coordinates\": [[7.0651453, 50.71319], [7.0651239, 50.7131157], [7.0649589, 50.7131368], [7.0649804, 50.7132107], [7.0651453, 50.71319]], \"type\": \"LineString\"}, \"id\": 277782974, \"properties\": {\"building\": \"yes\", \"note\": \"Blockheizkraftwerk (BHKW)\", \"power\": \"generator\"}, \"type\": \"Feature\"}, {\"geometry\": {\"coordinates\": [[7.1480201, 50.6136434], [7.1495917, 50.6140984], [7.149629, 50.6140529], [7.1505984, 50.6143368], [7.1505639, 50.6143823], [7.1524343, 50.6149262], [7.152848, 50.6143472], [7.1520583, 50.6138221], [7.1520124, 50.6136784], [7.1522103, 50.6130196], [7.1502028, 50.6124318], [7.1480201, 50.6136434]], \"type\": \"LineString\"}, \"id\": 374918039, \"properties\": {\"generator:source\": \"solar\", \"power\": \"generator\"}, \"type\": \"Feature\"}], \"type\": \"FeatureCollection\"}\n"
     ]
    },
    {
     "ename": "ServerRuntimeError",
     "evalue": "runtime error: Query timed out in \"query\" at line 1 after 182 seconds.",
     "output_type": "error",
     "traceback": [
      "\u001b[1;31m---------------------------------------------------------------------------\u001b[0m",
      "\u001b[1;31mServerRuntimeError\u001b[0m                        Traceback (most recent call last)",
      "\u001b[1;32m<ipython-input-64-70e43dc15958>\u001b[0m in \u001b[0;36m<module>\u001b[1;34m()\u001b[0m\n\u001b[0;32m      2\u001b[0m \u001b[0mprint\u001b[0m\u001b[1;33m(\u001b[0m\u001b[0mx\u001b[0m\u001b[1;33m)\u001b[0m\u001b[1;33m\u001b[0m\u001b[0m\n\u001b[0;32m      3\u001b[0m \u001b[1;33m\u001b[0m\u001b[0m\n\u001b[1;32m----> 4\u001b[1;33m \u001b[0mz\u001b[0m \u001b[1;33m=\u001b[0m \u001b[0mapi\u001b[0m\u001b[1;33m.\u001b[0m\u001b[0mGet\u001b[0m\u001b[1;33m(\u001b[0m\u001b[1;34m'way[\"power\"=\"generator\"]'\u001b[0m\u001b[1;33m)\u001b[0m\u001b[1;33m\u001b[0m\u001b[0m\n\u001b[0m\u001b[0;32m      5\u001b[0m \u001b[0mprint\u001b[0m\u001b[1;33m(\u001b[0m\u001b[0mz\u001b[0m\u001b[1;33m)\u001b[0m\u001b[1;33m\u001b[0m\u001b[0m\n",
      "\u001b[1;32mC:\\Users\\julia.dills\\AppData\\Local\\Continuum\\Anaconda3\\lib\\site-packages\\overpass\\api.py\u001b[0m in \u001b[0;36mGet\u001b[1;34m(self, query, responseformat, verbosity)\u001b[0m\n\u001b[0;32m     57\u001b[0m         \u001b[0moverpass_remark\u001b[0m \u001b[1;33m=\u001b[0m \u001b[0mresponse\u001b[0m\u001b[1;33m.\u001b[0m\u001b[0mget\u001b[0m\u001b[1;33m(\u001b[0m\u001b[1;34m'remark'\u001b[0m\u001b[1;33m,\u001b[0m \u001b[1;32mNone\u001b[0m\u001b[1;33m)\u001b[0m\u001b[1;33m\u001b[0m\u001b[0m\n\u001b[0;32m     58\u001b[0m         \u001b[1;32mif\u001b[0m \u001b[0moverpass_remark\u001b[0m \u001b[1;32mand\u001b[0m \u001b[0moverpass_remark\u001b[0m\u001b[1;33m.\u001b[0m\u001b[0mstartswith\u001b[0m\u001b[1;33m(\u001b[0m\u001b[1;34m'runtime error'\u001b[0m\u001b[1;33m)\u001b[0m\u001b[1;33m:\u001b[0m\u001b[1;33m\u001b[0m\u001b[0m\n\u001b[1;32m---> 59\u001b[1;33m             \u001b[1;32mraise\u001b[0m \u001b[0mServerRuntimeError\u001b[0m\u001b[1;33m(\u001b[0m\u001b[0moverpass_remark\u001b[0m\u001b[1;33m)\u001b[0m\u001b[1;33m\u001b[0m\u001b[0m\n\u001b[0m\u001b[0;32m     60\u001b[0m \u001b[1;33m\u001b[0m\u001b[0m\n\u001b[0;32m     61\u001b[0m         \u001b[1;32mif\u001b[0m \u001b[0mresponseformat\u001b[0m \u001b[1;32mis\u001b[0m \u001b[1;32mnot\u001b[0m \u001b[1;34m\"geojson\"\u001b[0m\u001b[1;33m:\u001b[0m\u001b[1;33m\u001b[0m\u001b[0m\n",
      "\u001b[1;31mServerRuntimeError\u001b[0m: runtime error: Query timed out in \"query\" at line 1 after 182 seconds."
     ]
    }
   ],
   "source": [
    "#this will work\n",
    "x = api.Get('way[\"power\"=\"generator\"](50.6,7.0,50.8,7.3)')\n",
    "print(x)\n",
    "\n",
    "#but this returns an error - it might be that it is querying too much data and to use the power=generator tag we will need\n",
    "#to specify the area\n",
    "z = api.Get('way[\"power\"=\"generator\"]')\n",
    "print(z)"
   ]
  }
 ],
 "metadata": {
  "kernelspec": {
   "display_name": "Python 3",
   "language": "python",
   "name": "python3"
  },
  "language_info": {
   "codemirror_mode": {
    "name": "ipython",
    "version": 3
   },
   "file_extension": ".py",
   "mimetype": "text/x-python",
   "name": "python",
   "nbconvert_exporter": "python",
   "pygments_lexer": "ipython3",
   "version": "3.5.1"
  }
 },
 "nbformat": 4,
 "nbformat_minor": 0
}
